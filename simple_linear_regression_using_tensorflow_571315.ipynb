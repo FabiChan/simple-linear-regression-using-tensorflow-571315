{
  "nbformat": 4,
  "nbformat_minor": 0,
  "metadata": {
    "colab": {
      "provenance": [],
      "gpuType": "T4"
    },
    "kernelspec": {
      "name": "python3",
      "display_name": "Python 3"
    },
    "language_info": {
      "name": "python"
    },
    "accelerator": "GPU"
  },
  "cells": [
    {
      "cell_type": "markdown",
      "source": [
        "# **Homework 2: Simple linear regression using TensorFlow in Python**\n",
        "### Universidad de Monterrey\n",
        "\n",
        "\n",
        "**Nombre:** Leslie Fabiola López Rosales - 571315\n",
        "\n",
        "**Programa académico:** Ingeniería en Tecnologías Computacionales\n",
        "\n",
        "**Profesor:** Dr. Andrés Hernández Gutiérez\n",
        "\n",
        "**Materia:** Inteligencia Artificial 2\n",
        "\n",
        "\n",
        "**Lugar y fecha:** *Monterrey, Nuevo León a 30 de agosto del 2024*\n"
      ],
      "metadata": {
        "id": "k9TLUWDqaGx_"
      }
    },
    {
      "cell_type": "markdown",
      "source": [
        "---"
      ],
      "metadata": {
        "id": "KcFAgG-kPa-b"
      }
    },
    {
      "cell_type": "markdown",
      "source": [
        "Antes de iniciar, primero debemos de importar todas las librerías que necesitaremos para poder trabajar. En este caso, para crear una regresión lineal con una neurona, necesitaremos de las siguientes librerías:\n",
        "- **numpy:** Es una librería de Python que sirve para trabajar con arreglos y operaciones matemáticas (W3S, 2024).\n",
        "- **tensorflow:** Sirve para generar y entrenar modelos de machine learning (TensorFlow, 2024). Para este caso, se usa para diseñar, entrenar y validar una neurona.\n",
        "- **matplotlib.pyplot:** Esta librería usa la capa de scripting pyplot para graficar los datos. Por ejemplo, explorar los datos y graficar el modelo para poder visualizar si tiene buen ajuste.\n",
        "- **sklearn.model_selection:** Esta librería funciona para hacer selección en el conjunto de datos, como hacer validación cruzada. Para este caso, sólo usaremos el método train_test_split que nos sirve para hacer la división de los datos de entrenamiento y los datos de pueba (Scikit-learn, 2024).\n",
        "\n",
        "**NOTA:** Usamos el comando \"as\" para renombrar la librería y no tener que escribir todo el nombre al momento de usar algún método. Por ejemplo, en lugar de escribir matplotlib.pyplot.plot() solo escribimos plt.plot()."
      ],
      "metadata": {
        "id": "9WElAdGDbBzT"
      }
    },
    {
      "cell_type": "code",
      "execution_count": 39,
      "metadata": {
        "id": "Ax9UmkwHZo2z"
      },
      "outputs": [],
      "source": [
        "#importamos librerías\n",
        "import numpy as np\n",
        "import tensorflow as tf\n",
        "import matplotlib.pyplot as plt\n",
        "from sklearn.model_selection import train_test_split"
      ]
    },
    {
      "cell_type": "markdown",
      "source": [
        "Una vez importadas las librerías necesarias, tenemos que cargar los datos con los que estaremos trabajando. En este caso, generamos los datos sintéticos con una función a la que llamaremos *generate_data* y recibe de parámetros un arreglo de los coeficientes de la función, la desviación estándar del ruido para distorcionar un poco los datos que va a generar y cuántos datos sintéticos queremos que la función genere.\n",
        "\n",
        "Lo que hace esta función es primeramente generar una semilla aleatoria con un valor de 4500.\n",
        "- Lo que hace esto es para generar los mismos datos aleatorios. Esto es de mucha ayuda para que cada vez que generemos el modelo usemos los mismos datos siempre para poder observar que está aprendiendo y poder también comparar con otros modelos y decidir por el mejor. Si no, los datos generados aleatoriamente estarían cambiando cada que ejecutemos la célula de código y es un poco más complejo poder comparar bien y asegurarnos de que está aprendiendo de la mejor forma. El valor 4500 es sólo un número, podríamos usar 3500 y serían otros datos generados.\n",
        "\n",
        "Después, la función crea el conjunto de datos para X con el método de numpy np.arrange().\n",
        "- Para este caso, le decimos que genere un arreglo de 100 datos sintéticos.\n",
        "\n",
        "Luego genera los datos para Y usando el arreglo de datos de la variable X.\n",
        "- En este ejercicio, la operación matemática aplicada es una función lineal, utilizando los coeficientes solicitados en los parámetros (10 y 1) y le agregamos el ruido para alterar un poco los resultados y que no sea perfecta la línea de tendencia.\n",
        "\n",
        "Finalmente, la función *generate_data* regresa los datos sintéticos generados para X y Y.\n",
        "\n",
        "\n",
        "**NOTA:** Este código realmente no se utiliza al momento de estar entrenando modelos de machine learning en la vida cotidiana, ya que lo que nosotros realmente queremos conocer es la función que aplicamos para los valores de X, y en la vida real no tenemos esa función dada. Esta parte del código es meramente para generar datos para trabajar y entrenar un modelo de regresión lineal usando una nurona artificial, por lo que sabemos que la función es lineal y por eso la función *generate_data* usa una función lineal y=mx+b. Pero sí, en la vida real en teoría no sabemos el comportamiento que tienen los datos y es nuetro trabajo diseñar y entrenar un modelo que mejor se ajuste al comportamiento de los datos :)."
      ],
      "metadata": {
        "id": "dQ_zApcdPj2N"
      }
    },
    {
      "cell_type": "code",
      "source": [
        "#Generamos un dataset\n",
        "def generate_data(true_coeffs=np.array([10,1]), noise_std=2, num_samples=100):\n",
        "\n",
        "  #Seed for reproductibility\n",
        "  np.random.seed(4500)\n",
        "\n",
        "  #Generate synthetic data\n",
        "  x = np.arange(0,100,1)\n",
        "  y = true_coeffs[0] + true_coeffs[1] * x + np.random.normal(loc=0.0, scale=noise_std, size=num_samples)\n",
        "\n",
        "  #Return features and response\n",
        "  return(x,y)"
      ],
      "metadata": {
        "id": "XItaB9rsa8UN"
      },
      "execution_count": 40,
      "outputs": []
    },
    {
      "cell_type": "markdown",
      "source": [
        "Ahora sí, generamos los datos llamando a la función previamente creada de *generate_data*:\n",
        "- Declaramos la variable *true_coeffs* y le asignamos un arreglo de dos valores: 10 y 1. Estos son los coeficientes (o pesos).\n",
        "- Creamos la variable *noise_std* con un valor de 5.\n",
        "- Generamos las variables X y Y con los datos generados con la función *generate_data*"
      ],
      "metadata": {
        "id": "YV4i4gF2XwzN"
      }
    },
    {
      "cell_type": "code",
      "source": [
        "#Genearmos set de datos sintéticos para una simple regresión lineal\n",
        "true_coeffs = np.array([10,1])\n",
        "noise_std = 5\n",
        "x, y = generate_data(true_coeffs=true_coeffs, noise_std=noise_std, num_samples=100)"
      ],
      "metadata": {
        "id": "-ks2v-iBcAGO"
      },
      "execution_count": 41,
      "outputs": []
    },
    {
      "cell_type": "markdown",
      "source": [
        "Como parte de la exploración de los datos, sirve mucho graficarlos. Para eso, usamos la librería de matplotlib la capa de pyplot para hacer las gráficas. Utilizamos los siguientes métodos:\n",
        "- **figure():** Sirve para crear la base de la gráfica y le damos un tamaño de (10,7) para este caso.\n",
        "- **scatter():** Crea la gráfica de dispersión usando los datos de X y Y. Le agregamos también una etiqueta para identificar que los datos pertenecen al dataset sintético.\n",
        "- **xlabel():** Agrega la etiqueta del eje horizontal\n",
        "- **ylabel():** Agrega la etiqueta del eje vertical\n",
        "- **title():** Agrega el título a la gráfica\n",
        "- **legend():** Agrega las etiquetas de las leyendas\n",
        "- **show:()** Para mostrar la gráfica"
      ],
      "metadata": {
        "id": "3DIYix2EY4Ur"
      }
    },
    {
      "cell_type": "code",
      "source": [
        "#Exploamos los datos sintetizados al visualizarlos\n",
        "plt.figure(figsize=(10,7))\n",
        "plt.scatter(x,y, label='Synthetic Dataset')\n",
        "plt.xlabel(r\"$X$\", fontsize=20)\n",
        "plt.ylabel(\"$f_{\\mathbf{w}}(x)$\", fontsize=20)\n",
        "plt.title(rf\"$f_{{\\mathbf{{w}}}}(x) = {true_coeffs[0]} + {true_coeffs[1]} x + \\epsilon$, where $\\epsilon \\sim \\mathcal{{N}}(\\mu=0, \\sigma={noise_std})$\", fontsize=20)\n",
        "plt.legend()\n",
        "plt.show()"
      ],
      "metadata": {
        "colab": {
          "base_uri": "https://localhost:8080/",
          "height": 666
        },
        "id": "uHtl68VocZvc",
        "outputId": "5a9de01f-6aa1-4cc3-a5d5-cc15adeb8d61"
      },
      "execution_count": 42,
      "outputs": [
        {
          "output_type": "display_data",
          "data": {
            "text/plain": [
              "<Figure size 1000x700 with 1 Axes>"
            ],
            "image/png": "[encoded data removed]"
          },
          "metadata": {}
        }
      ]
    },
    {
      "cell_type": "markdown",
      "source": [
        "Ahora si, es momento de trabajar con los datos para posteriormente generar el modelo. Para empezar, tenemos que separar nuestro conjutno de datos en dos: aquellos datos que usaremos para el entrenamiento y los que usaremos solamente de prueba para evaluar la calidad de nuestro modelo.\n",
        "- Así que, creamos nuestras variables *x_train* y *y_train* que tendrán el 80% de los datos correspondientes a las variables originales X y Y y se usarán para el entrenamiento del modelo.\n",
        "- Creamos también neustras variables *x_test* y *y_test* y tendrán el 20% restante de los datos de X y Y respectivamente para usarlos solamente para evaluar el modelo. Estos datos de prueba prácticamente serán nuevos para el modelo.\n",
        "\n",
        "Para hacer la separación, usamos el método *train_test_split()* que recibe como parámetros el conjunto de datos X, el conjunto de datos para Y, la proporción del tamaño para los datos de prueba, una semilla aleatoria para que la división de datos sea la misma para la reproducibilidad del modelo, y le decimos que también mezcle los datos un poco más antes de separarlos.\n",
        "- **FUN FACT:** Este método también tiene el parámtero de si los datos divididos aleatoriamente son estratificados *(stratify)*, que significa que al ser separados los conjuntos mantengan la misma proporción del conjunto de datos original. Este parámetro es más útil cuando el modelo hace una clasificación, por eso no es necesario para este caso de una regresión."
      ],
      "metadata": {
        "id": "WsaYzloFsXaB"
      }
    },
    {
      "cell_type": "code",
      "source": [
        "#Separamos el dataset original\n",
        "x_train, x_test, y_train, y_test = train_test_split(x, y, test_size=0.2, random_state=42, shuffle=True)"
      ],
      "metadata": {
        "id": "4ptuvpQteJd0"
      },
      "execution_count": 43,
      "outputs": []
    },
    {
      "cell_type": "markdown",
      "source": [
        "Volvemos a visualizar los datos igual en una gráfica de dispersión. En este caso, diferenciamos con color rojo los datos que serán utilizados para el entrenamiento del modelo, mientras que en azul se quedan los datos de prueba."
      ],
      "metadata": {
        "id": "ywOQoQzxwex9"
      }
    },
    {
      "cell_type": "code",
      "source": [
        "#Visualizamos el dataset separado\n",
        "plt.figure(figsize=(10,7))\n",
        "plt.scatter(x,y, label='Testing Dataset')\n",
        "plt.scatter(x_train, y_train, label='Training Dataset', color=[1,0,0])\n",
        "plt.xlabel(r\"$X$\", fontsize=20)\n",
        "plt.ylabel(\"$f_{\\mathbf{w}}(x)$\", fontsize=20)\n",
        "plt.title(rf\"$f_{{\\mathbf{{w}}}}(x) = {true_coeffs[0]} + {true_coeffs[1]} x + \\epsilon$, where $\\epsilon \\sim \\mathcal{{N}}(\\mu=0, \\sigma={noise_std})$\", fontsize=20)\n",
        "plt.legend()\n",
        "plt.show()"
      ],
      "metadata": {
        "colab": {
          "base_uri": "https://localhost:8080/",
          "height": 666
        },
        "id": "xwvN5qapecsr",
        "outputId": "921271db-576f-411a-e071-4f486348ef19"
      },
      "execution_count": 44,
      "outputs": [
        {
          "output_type": "display_data",
          "data": {
            "text/plain": [
              "<Figure size 1000x700 with 1 Axes>"
            ],
            "image/png": "[encoded data removed]"
          },
          "metadata": {}
        }
      ]
    },
    {
      "cell_type": "markdown",
      "source": [
        "A continuación, creamos el modelo usando el método keras.Sequential() de tensorflow. Keras es la API de TensorFlow que sirve de interfaz para usar los métodos y funcionalidades de TensorFlow (TensorFlow, 2024). Con keras, llamamos al método Sequential(), que sirve para construir el modelo de manera secuencial.\n",
        "- Primero agregamos la capa de entrada con *layers.Input()* y especificamos que el tamaño es de 1 la entrada que recibe la red neuronal artificial.\n",
        "- Después, agregamos nuestra capa oculta de neuronas con *layers.Dense()*. En este método especificamos que la cantidad de neuronas que tendrá la capa es de 1.\n",
        "- En teoría, podemos agregar cuantas capas queramos de *layers.Dense()*, pero para este ejercicio que estamos generando un modelo de sólamente 1 neurona con 1 capa basta.\n",
        "\n",
        "**FUN FACT:** El método layers.Dense() para agregar capas tiene más argumentos que sólo el número de nodos. También se puede especificar la función de activación con *activation*, como por ejemplo la \"relu\". Sin embargo, para este caso que es lineal. Por default la función de activación es \"linear\", por eso no se especificó."
      ],
      "metadata": {
        "id": "O7EH0KgGxAuD"
      }
    },
    {
      "cell_type": "code",
      "source": [
        "#Diseñamos la arquitectura de la red neuronal\n",
        "model = tf.keras.Sequential([\n",
        "    tf.keras.layers.Input(shape=(1,)),\n",
        "    tf.keras.layers.Dense(1)\n",
        "])"
      ],
      "metadata": {
        "id": "GQhphreDfB-5"
      },
      "execution_count": 45,
      "outputs": []
    },
    {
      "cell_type": "markdown",
      "source": [
        "Después de generar el modelo, lo tenemos que compilar con el método *compile()* para poder ya entrenarlo.\n",
        "+ Uno de los parámteros es el *optimizer* para indicar el optimizador que usará. En este caso, se usará el optimizador \"adam\" que implementa el algoritmo Adam. Este no es el único optimizador, hay varios más. El optimizador a escoger dependerá del problema que se tiene y cuál mejor se adapta a la situación.\n",
        "+ También está el parámetro *loss* que sirve para especificar la métrica que el optimizador estará revisando para poder mejorar el modelo. Indica el método que se usará para calcular esta métrica. En este caso, usaremos el Mean Squared Error \"mse\" como nuestra función de pérdida. De igual manera, el método que se utilice para calcular la pérdida dependerá del problema.\n",
        "\n",
        "**NOTA:** Este método también tiene más parámetros, pero los que generalmente siempre se usan son el *optimizer* y el *loss*."
      ],
      "metadata": {
        "id": "wgQaDOYB7hlY"
      }
    },
    {
      "cell_type": "code",
      "source": [
        "#Compilamos el modelo\n",
        "model.compile(optimizer=\"adam\", loss=\"mse\")"
      ],
      "metadata": {
        "id": "jt-OMorzfWYd"
      },
      "execution_count": 46,
      "outputs": []
    },
    {
      "cell_type": "markdown",
      "source": [
        "Después, usamos el método summary() para ver los detalles del modelo que acabamos de crear. Nos despliega la siguiente información (TensorFlow, 2024):\n",
        "- Información de cada una de las capas. En este caso, sólo tenemos 1 capa oculta, y nos dice el tipo de capa que es. En este caso, Dense (oculta) y tiene una neurona artificial.\n",
        "- También nos dice el tamaño que tiene la salida de la capa. En este caso, es sólo 1 salida.\n",
        "- Por último, nos dice también el número de parámetros o coeficientes que el modelo deberá de aprender. Este número generalmente se calcula en función de los pesos y el número de capas. La fórmula es la suma total de las multiplicaciones de los números de neuronas entre cada capa adyacente. Es decir, en nuestra arquitectura, la capa de entrada tiene 1 neurona, tiene una capa oculta de 1 neurona, y finalmente una capa de salida con una neurona. Así que, para calcular el número de parámetros sería: (1x1) + (1x1) = 2 parámetros que aprender. En este caso, por ser una regresión lineal de 1 neurona, son 2 los pesos que deberá de aprender (W0 y W1). Y tiene sentido, pues si regresamos a nuestra función *generate_data*, ahí definimos que nuestra regresión lineal tiene los coeficientes 10 y 1. Así que, nuestro modelo deberá de aprender para aproximarse a estos valores para los parámetros."
      ],
      "metadata": {
        "id": "VcyCG6RRlrmB"
      }
    },
    {
      "cell_type": "code",
      "source": [
        "#Vemos la aqruitectura\n",
        "model.summary()"
      ],
      "metadata": {
        "colab": {
          "base_uri": "https://localhost:8080/",
          "height": 161
        },
        "id": "iWrDQSdSfeDC",
        "outputId": "cf897757-0bfe-495b-fc88-4599f6b819b0"
      },
      "execution_count": 47,
      "outputs": [
        {
          "output_type": "display_data",
          "data": {
            "text/plain": [
              "\u001b[1mModel: \"sequential_2\"\u001b[0m\n"
            ],
            "text/html": [
              "<pre style=\"white-space:pre;overflow-x:auto;line-height:normal;font-family:Menlo,'DejaVu Sans Mono',consolas,'Courier New',monospace\"><span style=\"font-weight: bold\">Model: \"sequential_2\"</span>\n",
              "</pre>\n"
            ]
          },
          "metadata": {}
        },
        {
          "output_type": "display_data",
          "data": {
            "text/plain": [
              "┏━━━━━━━━━━━━━━━━━━━━━━━━━━━━━━━━━━━━━━┳━━━━━━━━━━━━━━━━━━━━━━━━━━━━━┳━━━━━━━━━━━━━━━━━┓\n",
              "┃\u001b[1m \u001b[0m\u001b[1mLayer (type)                        \u001b[0m\u001b[1m \u001b[0m┃\u001b[1m \u001b[0m\u001b[1mOutput Shape               \u001b[0m\u001b[1m \u001b[0m┃\u001b[1m \u001b[0m\u001b[1m        Param #\u001b[0m\u001b[1m \u001b[0m┃\n",
              "┡━━━━━━━━━━━━━━━━━━━━━━━━━━━━━━━━━━━━━━╇━━━━━━━━━━━━━━━━━━━━━━━━━━━━━╇━━━━━━━━━━━━━━━━━┩\n",
              "│ dense_2 (\u001b[38;5;33mDense\u001b[0m)                      │ (\u001b[38;5;45mNone\u001b[0m, \u001b[38;5;34m1\u001b[0m)                   │               \u001b[38;5;34m2\u001b[0m │\n",
              "└──────────────────────────────────────┴─────────────────────────────┴─────────────────┘\n"
            ],
            "text/html": [
              "<pre style=\"white-space:pre;overflow-x:auto;line-height:normal;font-family:Menlo,'DejaVu Sans Mono',consolas,'Courier New',monospace\">┏━━━━━━━━━━━━━━━━━━━━━━━━━━━━━━━━━━━━━━┳━━━━━━━━━━━━━━━━━━━━━━━━━━━━━┳━━━━━━━━━━━━━━━━━┓\n",
              "┃<span style=\"font-weight: bold\"> Layer (type)                         </span>┃<span style=\"font-weight: bold\"> Output Shape                </span>┃<span style=\"font-weight: bold\">         Param # </span>┃\n",
              "┡━━━━━━━━━━━━━━━━━━━━━━━━━━━━━━━━━━━━━━╇━━━━━━━━━━━━━━━━━━━━━━━━━━━━━╇━━━━━━━━━━━━━━━━━┩\n",
              "│ dense_2 (<span style=\"color: #0087ff; text-decoration-color: #0087ff\">Dense</span>)                      │ (<span style=\"color: #00d7ff; text-decoration-color: #00d7ff\">None</span>, <span style=\"color: #00af00; text-decoration-color: #00af00\">1</span>)                   │               <span style=\"color: #00af00; text-decoration-color: #00af00\">2</span> │\n",
              "└──────────────────────────────────────┴─────────────────────────────┴─────────────────┘\n",
              "</pre>\n"
            ]
          },
          "metadata": {}
        },
        {
          "output_type": "display_data",
          "data": {
            "text/plain": [
              "\u001b[1m Total params: \u001b[0m\u001b[38;5;34m2\u001b[0m (8.00 B)\n"
            ],
            "text/html": [
              "<pre style=\"white-space:pre;overflow-x:auto;line-height:normal;font-family:Menlo,'DejaVu Sans Mono',consolas,'Courier New',monospace\"><span style=\"font-weight: bold\"> Total params: </span><span style=\"color: #00af00; text-decoration-color: #00af00\">2</span> (8.00 B)\n",
              "</pre>\n"
            ]
          },
          "metadata": {}
        },
        {
          "output_type": "display_data",
          "data": {
            "text/plain": [
              "\u001b[1m Trainable params: \u001b[0m\u001b[38;5;34m2\u001b[0m (8.00 B)\n"
            ],
            "text/html": [
              "<pre style=\"white-space:pre;overflow-x:auto;line-height:normal;font-family:Menlo,'DejaVu Sans Mono',consolas,'Courier New',monospace\"><span style=\"font-weight: bold\"> Trainable params: </span><span style=\"color: #00af00; text-decoration-color: #00af00\">2</span> (8.00 B)\n",
              "</pre>\n"
            ]
          },
          "metadata": {}
        },
        {
          "output_type": "display_data",
          "data": {
            "text/plain": [
              "\u001b[1m Non-trainable params: \u001b[0m\u001b[38;5;34m0\u001b[0m (0.00 B)\n"
            ],
            "text/html": [
              "<pre style=\"white-space:pre;overflow-x:auto;line-height:normal;font-family:Menlo,'DejaVu Sans Mono',consolas,'Courier New',monospace\"><span style=\"font-weight: bold\"> Non-trainable params: </span><span style=\"color: #00af00; text-decoration-color: #00af00\">0</span> (0.00 B)\n",
              "</pre>\n"
            ]
          },
          "metadata": {}
        }
      ]
    },
    {
      "cell_type": "markdown",
      "source": [
        "Ahora sí, entrenamos el modelo con el método fit(). Para poder hacer el entrenamiento, le damos al método la siguiente información como parámetros (TensorFlow, 2024):\n",
        "- **x_train:** El conjunto de datos de entrada.\n",
        "- **y_train:** El conjunto de datos que son la salida.\n",
        "- **epochs:** Es el número de épocas para entrenar el modelo.Es decir, el número de veces que el modelo recorre todos los datos de entrenamiento. Para este caso, le decimos que recorrerá 10 veces los datos (epochs=10). Para que el modelo calule los pesos efectivamente, se neceitan un gran número de épocas. Si son pocas, se corre el riesgo de underfitting. En este caso, para ejemplificar este evento, cambié el número de épocas a 10 para observar el comportamiento y después mejoraremos el modelo aumentando las épocas.\n",
        "- **batch_size:** Es la cantidad de datos en que se divide la época. Una época se divide en batches, ya que es pesado para la computadora hacer cálculos con mucha carga computacional y con grandes conjuntos de datos. Por eso, usamos batches para dividir esa carga y especificamos la cantidad de datos de entrenamiento que compone un batch. En este caso, son 10 datos por batch. Por default es 32 si no se especifica.\n",
        "- **validation_split:** Se usa para hacer una partición de los datos de entrenamiento que sirven como \"prueba\" para validar el modelo en cada iteración. No es lo mismo que los datos de prueba test, estos son datos de entrenamiento mismos pero se usan para validar el modelo y así tener un mejor modelo. En este caso, le decimos que el 10% de los datos de entrenamiento se usarán para validar.\n",
        "- **verbose:** Es simplemente para decir cómo quiero que me despliegue la información a detalle en cada entrenamiento. En este caso, el valor de 1 representa una barra de progreso."
      ],
      "metadata": {
        "id": "2W4XPMqjsvfQ"
      }
    },
    {
      "cell_type": "code",
      "source": [
        "#Entrenamos el modelo con underfitting\n",
        "model.fit(x_train, y_train, epochs=10, batch_size=10, validation_split=0.10, verbose=1)"
      ],
      "metadata": {
        "colab": {
          "base_uri": "https://localhost:8080/"
        },
        "id": "2kNXu-fo1w_t",
        "outputId": "9651212a-b6bd-45fb-83d1-800d26ba7dda"
      },
      "execution_count": 48,
      "outputs": [
        {
          "output_type": "stream",
          "name": "stdout",
          "text": [
            "Epoch 1/10\n",
            "\u001b[1m8/8\u001b[0m \u001b[32m━━━━━━━━━━━━━━━━━━━━\u001b[0m\u001b[37m\u001b[0m \u001b[1m1s\u001b[0m 51ms/step - loss: 980.1757 - val_loss: 1273.0309\n",
            "Epoch 2/10\n",
            "\u001b[1m8/8\u001b[0m \u001b[32m━━━━━━━━━━━━━━━━━━━━\u001b[0m\u001b[37m\u001b[0m \u001b[1m0s\u001b[0m 5ms/step - loss: 846.8348 - val_loss: 1237.6272\n",
            "Epoch 3/10\n",
            "\u001b[1m8/8\u001b[0m \u001b[32m━━━━━━━━━━━━━━━━━━━━\u001b[0m\u001b[37m\u001b[0m \u001b[1m0s\u001b[0m 7ms/step - loss: 874.0593 - val_loss: 1201.7927\n",
            "Epoch 4/10\n",
            "\u001b[1m8/8\u001b[0m \u001b[32m━━━━━━━━━━━━━━━━━━━━\u001b[0m\u001b[37m\u001b[0m \u001b[1m0s\u001b[0m 4ms/step - loss: 775.6317 - val_loss: 1167.0817\n",
            "Epoch 5/10\n",
            "\u001b[1m8/8\u001b[0m \u001b[32m━━━━━━━━━━━━━━━━━━━━\u001b[0m\u001b[37m\u001b[0m \u001b[1m0s\u001b[0m 4ms/step - loss: 864.2440 - val_loss: 1133.0847\n",
            "Epoch 6/10\n",
            "\u001b[1m8/8\u001b[0m \u001b[32m━━━━━━━━━━━━━━━━━━━━\u001b[0m\u001b[37m\u001b[0m \u001b[1m0s\u001b[0m 4ms/step - loss: 827.4485 - val_loss: 1100.5354\n",
            "Epoch 7/10\n",
            "\u001b[1m8/8\u001b[0m \u001b[32m━━━━━━━━━━━━━━━━━━━━\u001b[0m\u001b[37m\u001b[0m \u001b[1m0s\u001b[0m 4ms/step - loss: 781.2351 - val_loss: 1068.9585\n",
            "Epoch 8/10\n",
            "\u001b[1m8/8\u001b[0m \u001b[32m━━━━━━━━━━━━━━━━━━━━\u001b[0m\u001b[37m\u001b[0m \u001b[1m0s\u001b[0m 5ms/step - loss: 799.2626 - val_loss: 1037.5510\n",
            "Epoch 9/10\n",
            "\u001b[1m8/8\u001b[0m \u001b[32m━━━━━━━━━━━━━━━━━━━━\u001b[0m\u001b[37m\u001b[0m \u001b[1m0s\u001b[0m 4ms/step - loss: 758.5035 - val_loss: 1007.0848\n",
            "Epoch 10/10\n",
            "\u001b[1m8/8\u001b[0m \u001b[32m━━━━━━━━━━━━━━━━━━━━\u001b[0m\u001b[37m\u001b[0m \u001b[1m0s\u001b[0m 4ms/step - loss: 753.7833 - val_loss: 976.7915\n"
          ]
        },
        {
          "output_type": "execute_result",
          "data": {
            "text/plain": [
              "<keras.src.callbacks.history.History at 0x7d1f14931b70>"
            ]
          },
          "metadata": {},
          "execution_count": 48
        }
      ]
    },
    {
      "cell_type": "markdown",
      "source": [
        "Una vez teniendo nuestro modelo entrenado con los datos, evaluamos el modelo. Para eso, usaremos la métrica de pérdida *loss* y el método evaluate() para evaluar. Le pasamos al método ahora si el conjutno de datos especificados para las prueba (*x_test* y *y_test*). También tiene otros parámetros, pero lo principal que nos interesa es pasarle los datos de prueba para que nos regrese la métrica de loss."
      ],
      "metadata": {
        "id": "z7IanKUbL5Uk"
      }
    },
    {
      "cell_type": "code",
      "source": [
        "#Evaluamos el modelo\n",
        "loss = model.evaluate(x_test, y_test)\n",
        "print(f\"\\nTest Loss: {loss}\")"
      ],
      "metadata": {
        "colab": {
          "base_uri": "https://localhost:8080/"
        },
        "id": "c6V4hNhR15Mp",
        "outputId": "c108d9dd-ec8d-4960-8520-c11e0a657160"
      },
      "execution_count": 49,
      "outputs": [
        {
          "output_type": "stream",
          "name": "stdout",
          "text": [
            "\u001b[1m1/1\u001b[0m \u001b[32m━━━━━━━━━━━━━━━━━━━━\u001b[0m\u001b[37m\u001b[0m \u001b[1m0s\u001b[0m 44ms/step - loss: 694.7304\n",
            "\n",
            "Test Loss: 694.7304077148438\n"
          ]
        }
      ]
    },
    {
      "cell_type": "markdown",
      "source": [
        "Para tener más información sobre nuestro modelo entrenado, imprimirmos los coeficientes que aprendió. Para ello, utilizamos el método *get_weights()*, que regresa un arreglo de todos los coeficientes o pesos aprendidos. Para este caso, como sólo eran 2 parámetros, fácimente podemos acceder a ellos con los índices 0 para w1 y 1 para w0."
      ],
      "metadata": {
        "id": "inutatRSMpFF"
      }
    },
    {
      "cell_type": "code",
      "source": [
        "#Imprimimos los pesos del modelo entrenado\n",
        "weights = model.layers[0].get_weights()\n",
        "print(f\"Weights [w1]: {weights[0]}\")\n",
        "print(f\"Biases [w0]: {weights[1]}\")"
      ],
      "metadata": {
        "colab": {
          "base_uri": "https://localhost:8080/"
        },
        "id": "x5lu2FsN1_fp",
        "outputId": "884d79cf-a98e-4d97-c757-c4dd042ce6b4"
      },
      "execution_count": 50,
      "outputs": [
        {
          "output_type": "stream",
          "name": "stdout",
          "text": [
            "Weights [w1]: [[0.703644]]\n",
            "Biases [w0]: [0.07769721]\n"
          ]
        }
      ]
    },
    {
      "cell_type": "markdown",
      "source": [
        "Ahora realizamos las predicciones utilizando los datos de prueba, con el fin de poder calcular los resultados para los valores de entrada usando nuestro modelo.\n",
        "+ Guardamos en la variable *y_pred* las predicciones que hace el modelo para los datos de prueba, los que el modelo nunca ha visto.\n",
        "+ Guardamos en la variable *y_pred_train* las predicciones para los datos de entrenamiento. Creamos esta variable para posteriormente poder graficar el modelo con los datos de entrenamiento."
      ],
      "metadata": {
        "id": "PhaVXEZFAOTq"
      }
    },
    {
      "cell_type": "code",
      "source": [
        "#Hacemos predicciones\n",
        "y_pred = model.predict(x_test)\n",
        "y_pred_train = model.predict(x_train)"
      ],
      "metadata": {
        "colab": {
          "base_uri": "https://localhost:8080/"
        },
        "id": "L8hnDYkN2DeQ",
        "outputId": "78975b7f-a0cf-4fcd-aa9b-8f2b8223c306"
      },
      "execution_count": 51,
      "outputs": [
        {
          "output_type": "stream",
          "name": "stdout",
          "text": [
            "\u001b[1m1/1\u001b[0m \u001b[32m━━━━━━━━━━━━━━━━━━━━\u001b[0m\u001b[37m\u001b[0m \u001b[1m0s\u001b[0m 50ms/step\n"
          ]
        },
        {
          "output_type": "stream",
          "name": "stderr",
          "text": [
            "WARNING:tensorflow:5 out of the last 17 calls to <function TensorFlowTrainer.make_predict_function.<locals>.one_step_on_data_distributed at 0x7d1f148ff1c0> triggered tf.function retracing. Tracing is expensive and the excessive number of tracings could be due to (1) creating @tf.function repeatedly in a loop, (2) passing tensors with different shapes, (3) passing Python objects instead of tensors. For (1), please define your @tf.function outside of the loop. For (2), @tf.function has reduce_retracing=True option that can avoid unnecessary retracing. For (3), please refer to https://www.tensorflow.org/guide/function#controlling_retracing and https://www.tensorflow.org/api_docs/python/tf/function for  more details.\n"
          ]
        },
        {
          "output_type": "stream",
          "name": "stdout",
          "text": [
            "\u001b[1m3/3\u001b[0m \u001b[32m━━━━━━━━━━━━━━━━━━━━\u001b[0m\u001b[37m\u001b[0m \u001b[1m0s\u001b[0m 11ms/step\n"
          ]
        }
      ]
    },
    {
      "cell_type": "markdown",
      "source": [
        "Por último, queremos ver si nuestro modelo realmente se ajusta bien al comportamiento de los datos. Por eso, vamos a volver a graficar nuestros datos origniales en el gráfico de dispersión y también vamos a graficar el modelo con una línea roja, teniendo en cuenta los resultados de las predicciones que el modelo hizo con los datos de prueba."
      ],
      "metadata": {
        "id": "ygbDPYbM9WyZ"
      }
    },
    {
      "cell_type": "code",
      "source": [
        "#Visualizamos el modelo entrenado\n",
        "plt.figure(figsize=(10,6))\n",
        "plt.scatter(x_train ,y_train , label='Training Data')\n",
        "plt.plot(x_train,y_pred_train, label='Model', linewidth=3, color=[1,0,0])\n",
        "plt.xlabel(r\"$X$\", fontsize=20)\n",
        "plt.ylabel(\"$f_{\\mathbf{w}}(x)$\", fontsize=20)\n",
        "plt.title(rf\"$f_{{\\mathbf{{w}}}}(x) = {true_coeffs[0]} + {true_coeffs[1]} x + \\epsilon$, where $\\epsilon \\sim \\mathcal{{N}}(\\mu=0, \\sigma={noise_std})$\", fontsize=20)\n",
        "plt.legend()\n",
        "plt.show()"
      ],
      "metadata": {
        "colab": {
          "base_uri": "https://localhost:8080/",
          "height": 589
        },
        "id": "wI_ypwP_2Da2",
        "outputId": "73cdc3e2-665b-4d2e-c12a-41567e8683af"
      },
      "execution_count": 52,
      "outputs": [
        {
          "output_type": "display_data",
          "data": {
            "text/plain": [
              "<Figure size 1000x600 with 1 Axes>"
            ],
            "image/png": "[encoded data removed]"
          },
          "metadata": {}
        }
      ]
    },
    {
      "cell_type": "markdown",
      "source": [
        "Podemos observar de la gráfica de arriba que el modelo parace tener underfit, ya que la línea roja se encuentra por debajo de los datos de entrenamiento. Esto se puede deber a que el número de épocas (10) fue poco, por lo que ahora mejoraremos el modelo aumentando este número a 500. Así que, volveremos a repetir todo el proceso de entrenamiento y evaluación."
      ],
      "metadata": {
        "id": "-S7kdQPBNOJE"
      }
    },
    {
      "cell_type": "code",
      "source": [
        "#Entrenamos el nuevo modelo mejorado\n",
        "model.fit(x_train, y_train, epochs=500, batch_size=10, validation_split=0.10, verbose=1)"
      ],
      "metadata": {
        "colab": {
          "base_uri": "https://localhost:8080/"
        },
        "id": "uRZJ6iNSflhQ",
        "outputId": "887f48bb-6333-4676-91fc-056813f129e6"
      },
      "execution_count": 53,
      "outputs": [
        {
          "output_type": "stream",
          "name": "stdout",
          "text": [
            "Epoch 1/500\n",
            "\u001b[1m8/8\u001b[0m \u001b[32m━━━━━━━━━━━━━━━━━━━━\u001b[0m\u001b[37m\u001b[0m \u001b[1m0s\u001b[0m 9ms/step - loss: 714.4084 - val_loss: 947.8231\n",
            "Epoch 2/500\n",
            "\u001b[1m8/8\u001b[0m \u001b[32m━━━━━━━━━━━━━━━━━━━━\u001b[0m\u001b[37m\u001b[0m \u001b[1m0s\u001b[0m 4ms/step - loss: 689.8245 - val_loss: 919.7182\n",
            "Epoch 3/500\n",
            "\u001b[1m8/8\u001b[0m \u001b[32m━━━━━━━━━━━━━━━━━━━━\u001b[0m\u001b[37m\u001b[0m \u001b[1m0s\u001b[0m 4ms/step - loss: 674.8827 - val_loss: 892.7792\n",
            "Epoch 4/500\n",
            "\u001b[1m8/8\u001b[0m \u001b[32m━━━━━━━━━━━━━━━━━━━━\u001b[0m\u001b[37m\u001b[0m \u001b[1m0s\u001b[0m 4ms/step - loss: 613.6036 - val_loss: 866.5105\n",
            "Epoch 5/500\n",
            "\u001b[1m8/8\u001b[0m \u001b[32m━━━━━━━━━━━━━━━━━━━━\u001b[0m\u001b[37m\u001b[0m \u001b[1m0s\u001b[0m 5ms/step - loss: 639.9650 - val_loss: 840.4978\n",
            "Epoch 6/500\n",
            "\u001b[1m8/8\u001b[0m \u001b[32m━━━━━━━━━━━━━━━━━━━━\u001b[0m\u001b[37m\u001b[0m \u001b[1m0s\u001b[0m 5ms/step - loss: 619.8295 - val_loss: 815.3058\n",
            "Epoch 7/500\n",
            "\u001b[1m8/8\u001b[0m \u001b[32m━━━━━━━━━━━━━━━━━━━━\u001b[0m\u001b[37m\u001b[0m \u001b[1m0s\u001b[0m 5ms/step - loss: 523.8847 - val_loss: 791.1926\n",
            "Epoch 8/500\n",
            "\u001b[1m8/8\u001b[0m \u001b[32m━━━━━━━━━━━━━━━━━━━━\u001b[0m\u001b[37m\u001b[0m \u001b[1m0s\u001b[0m 4ms/step - loss: 538.7704 - val_loss: 766.0519\n",
            "Epoch 9/500\n",
            "\u001b[1m8/8\u001b[0m \u001b[32m━━━━━━━━━━━━━━━━━━━━\u001b[0m\u001b[37m\u001b[0m \u001b[1m0s\u001b[0m 4ms/step - loss: 573.2812 - val_loss: 740.7773\n",
            "Epoch 10/500\n",
            "\u001b[1m8/8\u001b[0m \u001b[32m━━━━━━━━━━━━━━━━━━━━\u001b[0m\u001b[37m\u001b[0m \u001b[1m0s\u001b[0m 9ms/step - loss: 547.5052 - val_loss: 717.7523\n",
            "Epoch 11/500\n",
            "\u001b[1m8/8\u001b[0m \u001b[32m━━━━━━━━━━━━━━━━━━━━\u001b[0m\u001b[37m\u001b[0m \u001b[1m0s\u001b[0m 6ms/step - loss: 516.4866 - val_loss: 694.8740\n",
            "Epoch 12/500\n",
            "\u001b[1m8/8\u001b[0m \u001b[32m━━━━━━━━━━━━━━━━━━━━\u001b[0m\u001b[37m\u001b[0m \u001b[1m0s\u001b[0m 6ms/step - loss: 546.0649 - val_loss: 671.1245\n",
            "Epoch 13/500\n",
            "\u001b[1m8/8\u001b[0m \u001b[32m━━━━━━━━━━━━━━━━━━━━\u001b[0m\u001b[37m\u001b[0m \u001b[1m0s\u001b[0m 6ms/step - loss: 479.9097 - val_loss: 649.4359\n",
            "Epoch 14/500\n",
            "\u001b[1m8/8\u001b[0m \u001b[32m━━━━━━━━━━━━━━━━━━━━\u001b[0m\u001b[37m\u001b[0m \u001b[1m0s\u001b[0m 6ms/step - loss: 418.1233 - val_loss: 629.1238\n",
            "Epoch 15/500\n",
            "\u001b[1m8/8\u001b[0m \u001b[32m━━━━━━━━━━━━━━━━━━━━\u001b[0m\u001b[37m\u001b[0m \u001b[1m0s\u001b[0m 7ms/step - loss: 460.4282 - val_loss: 608.3576\n",
            "Epoch 16/500\n",
            "\u001b[1m8/8\u001b[0m \u001b[32m━━━━━━━━━━━━━━━━━━━━\u001b[0m\u001b[37m\u001b[0m \u001b[1m0s\u001b[0m 7ms/step - loss: 442.6055 - val_loss: 589.0648\n",
            "Epoch 17/500\n",
            "\u001b[1m8/8\u001b[0m \u001b[32m━━━━━━━━━━━━━━━━━━━━\u001b[0m\u001b[37m\u001b[0m \u001b[1m0s\u001b[0m 6ms/step - loss: 413.8645 - val_loss: 570.4977\n",
            "Epoch 18/500\n",
            "\u001b[1m8/8\u001b[0m \u001b[32m━━━━━━━━━━━━━━━━━━━━\u001b[0m\u001b[37m\u001b[0m \u001b[1m0s\u001b[0m 9ms/step - loss: 406.2765 - val_loss: 551.6683\n",
            "Epoch 19/500\n",
            "\u001b[1m8/8\u001b[0m \u001b[32m━━━━━━━━━━━━━━━━━━━━\u001b[0m\u001b[37m\u001b[0m \u001b[1m0s\u001b[0m 6ms/step - loss: 419.2657 - val_loss: 533.7129\n",
            "Epoch 20/500\n",
            "\u001b[1m8/8\u001b[0m \u001b[32m━━━━━━━━━━━━━━━━━━━━\u001b[0m\u001b[37m\u001b[0m \u001b[1m0s\u001b[0m 7ms/step - loss: 363.6249 - val_loss: 516.2295\n",
            "Epoch 21/500\n",
            "\u001b[1m8/8\u001b[0m \u001b[32m━━━━━━━━━━━━━━━━━━━━\u001b[0m\u001b[37m\u001b[0m \u001b[1m0s\u001b[0m 9ms/step - loss: 368.1861 - val_loss: 499.3935\n",
            "Epoch 22/500\n",
            "\u001b[1m8/8\u001b[0m \u001b[32m━━━━━━━━━━━━━━━━━━━━\u001b[0m\u001b[37m\u001b[0m \u001b[1m0s\u001b[0m 6ms/step - loss: 371.9613 - val_loss: 482.6353\n",
            "Epoch 23/500\n",
            "\u001b[1m8/8\u001b[0m \u001b[32m━━━━━━━━━━━━━━━━━━━━\u001b[0m\u001b[37m\u001b[0m \u001b[1m0s\u001b[0m 7ms/step - loss: 378.5839 - val_loss: 466.6714\n",
            "Epoch 24/500\n",
            "\u001b[1m8/8\u001b[0m \u001b[32m━━━━━━━━━━━━━━━━━━━━\u001b[0m\u001b[37m\u001b[0m \u001b[1m0s\u001b[0m 9ms/step - loss: 337.2538 - val_loss: 450.8571\n",
            "Epoch 25/500\n",
            "\u001b[1m8/8\u001b[0m \u001b[32m━━━━━━━━━━━━━━━━━━━━\u001b[0m\u001b[37m\u001b[0m \u001b[1m0s\u001b[0m 6ms/step - loss: 330.1014 - val_loss: 435.4568\n",
            "Epoch 26/500\n",
            "\u001b[1m8/8\u001b[0m \u001b[32m━━━━━━━━━━━━━━━━━━━━\u001b[0m\u001b[37m\u001b[0m \u001b[1m0s\u001b[0m 4ms/step - loss: 296.1938 - val_loss: 420.9750\n",
            "Epoch 27/500\n",
            "\u001b[1m8/8\u001b[0m \u001b[32m━━━━━━━━━━━━━━━━━━━━\u001b[0m\u001b[37m\u001b[0m \u001b[1m0s\u001b[0m 4ms/step - loss: 325.6653 - val_loss: 406.4533\n",
            "Epoch 28/500\n",
            "\u001b[1m8/8\u001b[0m \u001b[32m━━━━━━━━━━━━━━━━━━━━\u001b[0m\u001b[37m\u001b[0m \u001b[1m0s\u001b[0m 4ms/step - loss: 295.6950 - val_loss: 392.1749\n",
            "Epoch 29/500\n",
            "\u001b[1m8/8\u001b[0m \u001b[32m━━━━━━━━━━━━━━━━━━━━\u001b[0m\u001b[37m\u001b[0m \u001b[1m0s\u001b[0m 4ms/step - loss: 308.9997 - val_loss: 378.3695\n",
            "Epoch 30/500\n",
            "\u001b[1m8/8\u001b[0m \u001b[32m━━━━━━━━━━━━━━━━━━━━\u001b[0m\u001b[37m\u001b[0m \u001b[1m0s\u001b[0m 4ms/step - loss: 316.6453 - val_loss: 365.1888\n",
            "Epoch 31/500\n",
            "\u001b[1m8/8\u001b[0m \u001b[32m━━━━━━━━━━━━━━━━━━━━\u001b[0m\u001b[37m\u001b[0m \u001b[1m0s\u001b[0m 4ms/step - loss: 274.5764 - val_loss: 352.5161\n",
            "Epoch 32/500\n",
            "\u001b[1m8/8\u001b[0m \u001b[32m━━━━━━━━━━━━━━━━━━━━\u001b[0m\u001b[37m\u001b[0m \u001b[1m0s\u001b[0m 4ms/step - loss: 280.8920 - val_loss: 340.3166\n",
            "Epoch 33/500\n",
            "\u001b[1m8/8\u001b[0m \u001b[32m━━━━━━━━━━━━━━━━━━━━\u001b[0m\u001b[37m\u001b[0m \u001b[1m0s\u001b[0m 4ms/step - loss: 243.8358 - val_loss: 328.9902\n",
            "Epoch 34/500\n",
            "\u001b[1m8/8\u001b[0m \u001b[32m━━━━━━━━━━━━━━━━━━━━\u001b[0m\u001b[37m\u001b[0m \u001b[1m0s\u001b[0m 5ms/step - loss: 239.9953 - val_loss: 317.2545\n",
            "Epoch 35/500\n",
            "\u001b[1m8/8\u001b[0m \u001b[32m━━━━━━━━━━━━━━━━━━━━\u001b[0m\u001b[37m\u001b[0m \u001b[1m0s\u001b[0m 4ms/step - loss: 249.9265 - val_loss: 306.4062\n",
            "Epoch 36/500\n",
            "\u001b[1m8/8\u001b[0m \u001b[32m━━━━━━━━━━━━━━━━━━━━\u001b[0m\u001b[37m\u001b[0m \u001b[1m0s\u001b[0m 4ms/step - loss: 227.2934 - val_loss: 295.5461\n",
            "Epoch 37/500\n",
            "\u001b[1m8/8\u001b[0m \u001b[32m━━━━━━━━━━━━━━━━━━━━\u001b[0m\u001b[37m\u001b[0m \u001b[1m0s\u001b[0m 4ms/step - loss: 222.8057 - val_loss: 285.2701\n",
            "Epoch 38/500\n",
            "\u001b[1m8/8\u001b[0m \u001b[32m━━━━━━━━━━━━━━━━━━━━\u001b[0m\u001b[37m\u001b[0m \u001b[1m0s\u001b[0m 5ms/step - loss: 231.9163 - val_loss: 275.1185\n",
            "Epoch 39/500\n",
            "\u001b[1m8/8\u001b[0m \u001b[32m━━━━━━━━━━━━━━━━━━━━\u001b[0m\u001b[37m\u001b[0m \u001b[1m0s\u001b[0m 5ms/step - loss: 228.8073 - val_loss: 265.3008\n",
            "Epoch 40/500\n",
            "\u001b[1m8/8\u001b[0m \u001b[32m━━━━━━━━━━━━━━━━━━━━\u001b[0m\u001b[37m\u001b[0m \u001b[1m0s\u001b[0m 4ms/step - loss: 174.9512 - val_loss: 256.2514\n",
            "Epoch 41/500\n",
            "\u001b[1m8/8\u001b[0m \u001b[32m━━━━━━━━━━━━━━━━━━━━\u001b[0m\u001b[37m\u001b[0m \u001b[1m0s\u001b[0m 4ms/step - loss: 216.0461 - val_loss: 247.0524\n",
            "Epoch 42/500\n",
            "\u001b[1m8/8\u001b[0m \u001b[32m━━━━━━━━━━━━━━━━━━━━\u001b[0m\u001b[37m\u001b[0m \u001b[1m0s\u001b[0m 4ms/step - loss: 212.9037 - val_loss: 238.3206\n",
            "Epoch 43/500\n",
            "\u001b[1m8/8\u001b[0m \u001b[32m━━━━━━━━━━━━━━━━━━━━\u001b[0m\u001b[37m\u001b[0m \u001b[1m0s\u001b[0m 5ms/step - loss: 162.7153 - val_loss: 230.3196\n",
            "Epoch 44/500\n",
            "\u001b[1m8/8\u001b[0m \u001b[32m━━━━━━━━━━━━━━━━━━━━\u001b[0m\u001b[37m\u001b[0m \u001b[1m0s\u001b[0m 4ms/step - loss: 167.9582 - val_loss: 221.9237\n",
            "Epoch 45/500\n",
            "\u001b[1m8/8\u001b[0m \u001b[32m━━━━━━━━━━━━━━━━━━━━\u001b[0m\u001b[37m\u001b[0m \u001b[1m0s\u001b[0m 4ms/step - loss: 178.5032 - val_loss: 213.9811\n",
            "Epoch 46/500\n",
            "\u001b[1m8/8\u001b[0m \u001b[32m━━━━━━━━━━━━━━━━━━━━\u001b[0m\u001b[37m\u001b[0m \u001b[1m0s\u001b[0m 4ms/step - loss: 164.3757 - val_loss: 206.4727\n",
            "Epoch 47/500\n",
            "\u001b[1m8/8\u001b[0m \u001b[32m━━━━━━━━━━━━━━━━━━━━\u001b[0m\u001b[37m\u001b[0m \u001b[1m0s\u001b[0m 4ms/step - loss: 159.7118 - val_loss: 198.5326\n",
            "Epoch 48/500\n",
            "\u001b[1m8/8\u001b[0m \u001b[32m━━━━━━━━━━━━━━━━━━━━\u001b[0m\u001b[37m\u001b[0m \u001b[1m0s\u001b[0m 4ms/step - loss: 157.2436 - val_loss: 191.0243\n",
            "Epoch 49/500\n",
            "\u001b[1m8/8\u001b[0m \u001b[32m━━━━━━━━━━━━━━━━━━━━\u001b[0m\u001b[37m\u001b[0m \u001b[1m0s\u001b[0m 4ms/step - loss: 157.3868 - val_loss: 184.0249\n",
            "Epoch 50/500\n",
            "\u001b[1m8/8\u001b[0m \u001b[32m━━━━━━━━━━━━━━━━━━━━\u001b[0m\u001b[37m\u001b[0m \u001b[1m0s\u001b[0m 4ms/step - loss: 149.6383 - val_loss: 177.2746\n",
            "Epoch 51/500\n",
            "\u001b[1m8/8\u001b[0m \u001b[32m━━━━━━━━━━━━━━━━━━━━\u001b[0m\u001b[37m\u001b[0m \u001b[1m0s\u001b[0m 4ms/step - loss: 146.5364 - val_loss: 170.9473\n",
            "Epoch 52/500\n",
            "\u001b[1m8/8\u001b[0m \u001b[32m━━━━━━━━━━━━━━━━━━━━\u001b[0m\u001b[37m\u001b[0m \u001b[1m0s\u001b[0m 5ms/step - loss: 153.5033 - val_loss: 164.6980\n",
            "Epoch 53/500\n",
            "\u001b[1m8/8\u001b[0m \u001b[32m━━━━━━━━━━━━━━━━━━━━\u001b[0m\u001b[37m\u001b[0m \u001b[1m0s\u001b[0m 4ms/step - loss: 137.8099 - val_loss: 158.9480\n",
            "Epoch 54/500\n",
            "\u001b[1m8/8\u001b[0m \u001b[32m━━━━━━━━━━━━━━━━━━━━\u001b[0m\u001b[37m\u001b[0m \u001b[1m0s\u001b[0m 5ms/step - loss: 131.2537 - val_loss: 153.2146\n",
            "Epoch 55/500\n",
            "\u001b[1m8/8\u001b[0m \u001b[32m━━━━━━━━━━━━━━━━━━━━\u001b[0m\u001b[37m\u001b[0m \u001b[1m0s\u001b[0m 6ms/step - loss: 127.9992 - val_loss: 147.7566\n",
            "Epoch 56/500\n",
            "\u001b[1m8/8\u001b[0m \u001b[32m━━━━━━━━━━━━━━━━━━━━\u001b[0m\u001b[37m\u001b[0m \u001b[1m0s\u001b[0m 4ms/step - loss: 123.5203 - val_loss: 142.5946\n",
            "Epoch 57/500\n",
            "\u001b[1m8/8\u001b[0m \u001b[32m━━━━━━━━━━━━━━━━━━━━\u001b[0m\u001b[37m\u001b[0m \u001b[1m0s\u001b[0m 4ms/step - loss: 113.6007 - val_loss: 137.6591\n",
            "Epoch 58/500\n",
            "\u001b[1m8/8\u001b[0m \u001b[32m━━━━━━━━━━━━━━━━━━━━\u001b[0m\u001b[37m\u001b[0m \u001b[1m0s\u001b[0m 4ms/step - loss: 123.4111 - val_loss: 132.6633\n",
            "Epoch 59/500\n",
            "\u001b[1m8/8\u001b[0m \u001b[32m━━━━━━━━━━━━━━━━━━━━\u001b[0m\u001b[37m\u001b[0m \u001b[1m0s\u001b[0m 4ms/step - loss: 127.3092 - val_loss: 127.8171\n",
            "Epoch 60/500\n",
            "\u001b[1m8/8\u001b[0m \u001b[32m━━━━━━━━━━━━━━━━━━━━\u001b[0m\u001b[37m\u001b[0m \u001b[1m0s\u001b[0m 4ms/step - loss: 117.6330 - val_loss: 123.3995\n",
            "Epoch 61/500\n",
            "\u001b[1m8/8\u001b[0m \u001b[32m━━━━━━━━━━━━━━━━━━━━\u001b[0m\u001b[37m\u001b[0m \u001b[1m0s\u001b[0m 4ms/step - loss: 107.7191 - val_loss: 119.1882\n",
            "Epoch 62/500\n",
            "\u001b[1m8/8\u001b[0m \u001b[32m━━━━━━━━━━━━━━━━━━━━\u001b[0m\u001b[37m\u001b[0m \u001b[1m0s\u001b[0m 4ms/step - loss: 116.6063 - val_loss: 115.1081\n",
            "Epoch 63/500\n",
            "\u001b[1m8/8\u001b[0m \u001b[32m━━━━━━━━━━━━━━━━━━━━\u001b[0m\u001b[37m\u001b[0m \u001b[1m0s\u001b[0m 4ms/step - loss: 123.7418 - val_loss: 111.1660\n",
            "Epoch 64/500\n",
            "\u001b[1m8/8\u001b[0m \u001b[32m━━━━━━━━━━━━━━━━━━━━\u001b[0m\u001b[37m\u001b[0m \u001b[1m0s\u001b[0m 4ms/step - loss: 89.8472 - val_loss: 107.3502\n",
            "Epoch 65/500\n",
            "\u001b[1m8/8\u001b[0m \u001b[32m━━━━━━━━━━━━━━━━━━━━\u001b[0m\u001b[37m\u001b[0m \u001b[1m0s\u001b[0m 4ms/step - loss: 120.0537 - val_loss: 103.3387\n",
            "Epoch 66/500\n",
            "\u001b[1m8/8\u001b[0m \u001b[32m━━━━━━━━━━━━━━━━━━━━\u001b[0m\u001b[37m\u001b[0m \u001b[1m0s\u001b[0m 4ms/step - loss: 89.2188 - val_loss: 99.6996\n",
            "Epoch 67/500\n",
            "\u001b[1m8/8\u001b[0m \u001b[32m━━━━━━━━━━━━━━━━━━━━\u001b[0m\u001b[37m\u001b[0m \u001b[1m0s\u001b[0m 4ms/step - loss: 104.2604 - val_loss: 95.9324\n",
            "Epoch 68/500\n",
            "\u001b[1m8/8\u001b[0m \u001b[32m━━━━━━━━━━━━━━━━━━━━\u001b[0m\u001b[37m\u001b[0m \u001b[1m0s\u001b[0m 4ms/step - loss: 90.3513 - val_loss: 92.8213\n",
            "Epoch 69/500\n",
            "\u001b[1m8/8\u001b[0m \u001b[32m━━━━━━━━━━━━━━━━━━━━\u001b[0m\u001b[37m\u001b[0m \u001b[1m0s\u001b[0m 5ms/step - loss: 97.8232 - val_loss: 89.8006\n",
            "Epoch 70/500\n",
            "\u001b[1m8/8\u001b[0m \u001b[32m━━━━━━━━━━━━━━━━━━━━\u001b[0m\u001b[37m\u001b[0m \u001b[1m0s\u001b[0m 6ms/step - loss: 88.5714 - val_loss: 86.8489\n",
            "Epoch 71/500\n",
            "\u001b[1m8/8\u001b[0m \u001b[32m━━━━━━━━━━━━━━━━━━━━\u001b[0m\u001b[37m\u001b[0m \u001b[1m0s\u001b[0m 6ms/step - loss: 89.3721 - val_loss: 84.1819\n",
            "Epoch 72/500\n",
            "\u001b[1m8/8\u001b[0m \u001b[32m━━━━━━━━━━━━━━━━━━━━\u001b[0m\u001b[37m\u001b[0m \u001b[1m0s\u001b[0m 5ms/step - loss: 85.2664 - val_loss: 81.5881\n",
            "Epoch 73/500\n",
            "\u001b[1m8/8\u001b[0m \u001b[32m━━━━━━━━━━━━━━━━━━━━\u001b[0m\u001b[37m\u001b[0m \u001b[1m0s\u001b[0m 4ms/step - loss: 96.6141 - val_loss: 78.7681\n",
            "Epoch 74/500\n",
            "\u001b[1m8/8\u001b[0m \u001b[32m━━━━━━━━━━━━━━━━━━━━\u001b[0m\u001b[37m\u001b[0m \u001b[1m0s\u001b[0m 4ms/step - loss: 85.5211 - val_loss: 76.3154\n",
            "Epoch 75/500\n",
            "\u001b[1m8/8\u001b[0m \u001b[32m━━━━━━━━━━━━━━━━━━━━\u001b[0m\u001b[37m\u001b[0m \u001b[1m0s\u001b[0m 5ms/step - loss: 96.4553 - val_loss: 74.0552\n",
            "Epoch 76/500\n",
            "\u001b[1m8/8\u001b[0m \u001b[32m━━━━━━━━━━━━━━━━━━━━\u001b[0m\u001b[37m\u001b[0m \u001b[1m0s\u001b[0m 5ms/step - loss: 84.6513 - val_loss: 71.8579\n",
            "Epoch 77/500\n",
            "\u001b[1m8/8\u001b[0m \u001b[32m━━━━━━━━━━━━━━━━━━━━\u001b[0m\u001b[37m\u001b[0m \u001b[1m0s\u001b[0m 4ms/step - loss: 83.0968 - val_loss: 69.7322\n",
            "Epoch 78/500\n",
            "\u001b[1m8/8\u001b[0m \u001b[32m━━━━━━━━━━━━━━━━━━━━\u001b[0m\u001b[37m\u001b[0m \u001b[1m0s\u001b[0m 4ms/step - loss: 78.9156 - val_loss: 67.6140\n",
            "Epoch 79/500\n",
            "\u001b[1m8/8\u001b[0m \u001b[32m━━━━━━━━━━━━━━━━━━━━\u001b[0m\u001b[37m\u001b[0m \u001b[1m0s\u001b[0m 5ms/step - loss: 78.7358 - val_loss: 65.6245\n",
            "Epoch 80/500\n",
            "\u001b[1m8/8\u001b[0m \u001b[32m━━━━━━━━━━━━━━━━━━━━\u001b[0m\u001b[37m\u001b[0m \u001b[1m0s\u001b[0m 5ms/step - loss: 83.8268 - val_loss: 63.7473\n",
            "Epoch 81/500\n",
            "\u001b[1m8/8\u001b[0m \u001b[32m━━━━━━━━━━━━━━━━━━━━\u001b[0m\u001b[37m\u001b[0m \u001b[1m0s\u001b[0m 4ms/step - loss: 83.6590 - val_loss: 61.6965\n",
            "Epoch 82/500\n",
            "\u001b[1m8/8\u001b[0m \u001b[32m━━━━━━━━━━━━━━━━━━━━\u001b[0m\u001b[37m\u001b[0m \u001b[1m0s\u001b[0m 4ms/step - loss: 78.6930 - val_loss: 59.9287\n",
            "Epoch 83/500\n",
            "\u001b[1m8/8\u001b[0m \u001b[32m━━━━━━━━━━━━━━━━━━━━\u001b[0m\u001b[37m\u001b[0m \u001b[1m0s\u001b[0m 5ms/step - loss: 76.9660 - val_loss: 58.3314\n",
            "Epoch 84/500\n",
            "\u001b[1m8/8\u001b[0m \u001b[32m━━━━━━━━━━━━━━━━━━━━\u001b[0m\u001b[37m\u001b[0m \u001b[1m0s\u001b[0m 4ms/step - loss: 79.7761 - val_loss: 56.6007\n",
            "Epoch 85/500\n",
            "\u001b[1m8/8\u001b[0m \u001b[32m━━━━━━━━━━━━━━━━━━━━\u001b[0m\u001b[37m\u001b[0m \u001b[1m0s\u001b[0m 5ms/step - loss: 83.4731 - val_loss: 55.1831\n",
            "Epoch 86/500\n",
            "\u001b[1m8/8\u001b[0m \u001b[32m━━━━━━━━━━━━━━━━━━━━\u001b[0m\u001b[37m\u001b[0m \u001b[1m0s\u001b[0m 5ms/step - loss: 73.7560 - val_loss: 53.8884\n",
            "Epoch 87/500\n",
            "\u001b[1m8/8\u001b[0m \u001b[32m━━━━━━━━━━━━━━━━━━━━\u001b[0m\u001b[37m\u001b[0m \u001b[1m0s\u001b[0m 5ms/step - loss: 68.9302 - val_loss: 52.5240\n",
            "Epoch 88/500\n",
            "\u001b[1m8/8\u001b[0m \u001b[32m━━━━━━━━━━━━━━━━━━━━\u001b[0m\u001b[37m\u001b[0m \u001b[1m0s\u001b[0m 4ms/step - loss: 75.5724 - val_loss: 51.2162\n",
            "Epoch 89/500\n",
            "\u001b[1m8/8\u001b[0m \u001b[32m━━━━━━━━━━━━━━━━━━━━\u001b[0m\u001b[37m\u001b[0m \u001b[1m0s\u001b[0m 4ms/step - loss: 77.4862 - val_loss: 49.9578\n",
            "Epoch 90/500\n",
            "\u001b[1m8/8\u001b[0m \u001b[32m━━━━━━━━━━━━━━━━━━━━\u001b[0m\u001b[37m\u001b[0m \u001b[1m0s\u001b[0m 4ms/step - loss: 65.7607 - val_loss: 48.8081\n",
            "Epoch 91/500\n",
            "\u001b[1m8/8\u001b[0m \u001b[32m━━━━━━━━━━━━━━━━━━━━\u001b[0m\u001b[37m\u001b[0m \u001b[1m0s\u001b[0m 4ms/step - loss: 78.0972 - val_loss: 47.5743\n",
            "Epoch 92/500\n",
            "\u001b[1m8/8\u001b[0m \u001b[32m━━━━━━━━━━━━━━━━━━━━\u001b[0m\u001b[37m\u001b[0m \u001b[1m0s\u001b[0m 4ms/step - loss: 74.3356 - val_loss: 46.2542\n",
            "Epoch 93/500\n",
            "\u001b[1m8/8\u001b[0m \u001b[32m━━━━━━━━━━━━━━━━━━━━\u001b[0m\u001b[37m\u001b[0m \u001b[1m0s\u001b[0m 4ms/step - loss: 67.4321 - val_loss: 45.1216\n",
            "Epoch 94/500\n",
            "\u001b[1m8/8\u001b[0m \u001b[32m━━━━━━━━━━━━━━━━━━━━\u001b[0m\u001b[37m\u001b[0m \u001b[1m0s\u001b[0m 4ms/step - loss: 56.0027 - val_loss: 44.0539\n",
            "Epoch 95/500\n",
            "\u001b[1m8/8\u001b[0m \u001b[32m━━━━━━━━━━━━━━━━━━━━\u001b[0m\u001b[37m\u001b[0m \u001b[1m0s\u001b[0m 4ms/step - loss: 68.5762 - val_loss: 43.1551\n",
            "Epoch 96/500\n",
            "\u001b[1m8/8\u001b[0m \u001b[32m━━━━━━━━━━━━━━━━━━━━\u001b[0m\u001b[37m\u001b[0m \u001b[1m0s\u001b[0m 4ms/step - loss: 73.6373 - val_loss: 42.1586\n",
            "Epoch 97/500\n",
            "\u001b[1m8/8\u001b[0m \u001b[32m━━━━━━━━━━━━━━━━━━━━\u001b[0m\u001b[37m\u001b[0m \u001b[1m0s\u001b[0m 4ms/step - loss: 68.1910 - val_loss: 41.2500\n",
            "Epoch 98/500\n",
            "\u001b[1m8/8\u001b[0m \u001b[32m━━━━━━━━━━━━━━━━━━━━\u001b[0m\u001b[37m\u001b[0m \u001b[1m0s\u001b[0m 4ms/step - loss: 74.0687 - val_loss: 40.3628\n",
            "Epoch 99/500\n",
            "\u001b[1m8/8\u001b[0m \u001b[32m━━━━━━━━━━━━━━━━━━━━\u001b[0m\u001b[37m\u001b[0m \u001b[1m0s\u001b[0m 5ms/step - loss: 74.4758 - val_loss: 39.4267\n",
            "Epoch 100/500\n",
            "\u001b[1m8/8\u001b[0m \u001b[32m━━━━━━━━━━━━━━━━━━━━\u001b[0m\u001b[37m\u001b[0m \u001b[1m0s\u001b[0m 4ms/step - loss: 63.8833 - val_loss: 38.5805\n",
            "Epoch 101/500\n",
            "\u001b[1m8/8\u001b[0m \u001b[32m━━━━━━━━━━━━━━━━━━━━\u001b[0m\u001b[37m\u001b[0m \u001b[1m0s\u001b[0m 4ms/step - loss: 73.5700 - val_loss: 37.7474\n",
            "Epoch 102/500\n",
            "\u001b[1m8/8\u001b[0m \u001b[32m━━━━━━━━━━━━━━━━━━━━\u001b[0m\u001b[37m\u001b[0m \u001b[1m0s\u001b[0m 5ms/step - loss: 71.1627 - val_loss: 36.9762\n",
            "Epoch 103/500\n",
            "\u001b[1m8/8\u001b[0m \u001b[32m━━━━━━━━━━━━━━━━━━━━\u001b[0m\u001b[37m\u001b[0m \u001b[1m0s\u001b[0m 5ms/step - loss: 65.2375 - val_loss: 36.4090\n",
            "Epoch 104/500\n",
            "\u001b[1m8/8\u001b[0m \u001b[32m━━━━━━━━━━━━━━━━━━━━\u001b[0m\u001b[37m\u001b[0m \u001b[1m0s\u001b[0m 5ms/step - loss: 61.9646 - val_loss: 35.8847\n",
            "Epoch 105/500\n",
            "\u001b[1m8/8\u001b[0m \u001b[32m━━━━━━━━━━━━━━━━━━━━\u001b[0m\u001b[37m\u001b[0m \u001b[1m0s\u001b[0m 5ms/step - loss: 55.1120 - val_loss: 35.3255\n",
            "Epoch 106/500\n",
            "\u001b[1m8/8\u001b[0m \u001b[32m━━━━━━━━━━━━━━━━━━━━\u001b[0m\u001b[37m\u001b[0m \u001b[1m0s\u001b[0m 5ms/step - loss: 65.5456 - val_loss: 34.6405\n",
            "Epoch 107/500\n",
            "\u001b[1m8/8\u001b[0m \u001b[32m━━━━━━━━━━━━━━━━━━━━\u001b[0m\u001b[37m\u001b[0m \u001b[1m0s\u001b[0m 5ms/step - loss: 69.4548 - val_loss: 34.0308\n",
            "Epoch 108/500\n",
            "\u001b[1m8/8\u001b[0m \u001b[32m━━━━━━━━━━━━━━━━━━━━\u001b[0m\u001b[37m\u001b[0m \u001b[1m0s\u001b[0m 4ms/step - loss: 58.9812 - val_loss: 33.5346\n",
            "Epoch 109/500\n",
            "\u001b[1m8/8\u001b[0m \u001b[32m━━━━━━━━━━━━━━━━━━━━\u001b[0m\u001b[37m\u001b[0m \u001b[1m0s\u001b[0m 5ms/step - loss: 69.3746 - val_loss: 32.8997\n",
            "Epoch 110/500\n",
            "\u001b[1m8/8\u001b[0m \u001b[32m━━━━━━━━━━━━━━━━━━━━\u001b[0m\u001b[37m\u001b[0m \u001b[1m0s\u001b[0m 4ms/step - loss: 65.7949 - val_loss: 32.3718\n",
            "Epoch 111/500\n",
            "\u001b[1m8/8\u001b[0m \u001b[32m━━━━━━━━━━━━━━━━━━━━\u001b[0m\u001b[37m\u001b[0m \u001b[1m0s\u001b[0m 4ms/step - loss: 61.7544 - val_loss: 31.8187\n",
            "Epoch 112/500\n",
            "\u001b[1m8/8\u001b[0m \u001b[32m━━━━━━━━━━━━━━━━━━━━\u001b[0m\u001b[37m\u001b[0m \u001b[1m0s\u001b[0m 4ms/step - loss: 66.8308 - val_loss: 31.3890\n",
            "Epoch 113/500\n",
            "\u001b[1m8/8\u001b[0m \u001b[32m━━━━━━━━━━━━━━━━━━━━\u001b[0m\u001b[37m\u001b[0m \u001b[1m0s\u001b[0m 4ms/step - loss: 53.5657 - val_loss: 30.9513\n",
            "Epoch 114/500\n",
            "\u001b[1m8/8\u001b[0m \u001b[32m━━━━━━━━━━━━━━━━━━━━\u001b[0m\u001b[37m\u001b[0m \u001b[1m0s\u001b[0m 4ms/step - loss: 65.3385 - val_loss: 30.5771\n",
            "Epoch 115/500\n",
            "\u001b[1m8/8\u001b[0m \u001b[32m━━━━━━━━━━━━━━━━━━━━\u001b[0m\u001b[37m\u001b[0m \u001b[1m0s\u001b[0m 4ms/step - loss: 63.6411 - val_loss: 30.2324\n",
            "Epoch 116/500\n",
            "\u001b[1m8/8\u001b[0m \u001b[32m━━━━━━━━━━━━━━━━━━━━\u001b[0m\u001b[37m\u001b[0m \u001b[1m0s\u001b[0m 5ms/step - loss: 73.9625 - val_loss: 29.8843\n",
            "Epoch 117/500\n",
            "\u001b[1m8/8\u001b[0m \u001b[32m━━━━━━━━━━━━━━━━━━━━\u001b[0m\u001b[37m\u001b[0m \u001b[1m0s\u001b[0m 5ms/step - loss: 64.4939 - val_loss: 29.5306\n",
            "Epoch 118/500\n",
            "\u001b[1m8/8\u001b[0m \u001b[32m━━━━━━━━━━━━━━━━━━━━\u001b[0m\u001b[37m\u001b[0m \u001b[1m0s\u001b[0m 4ms/step - loss: 66.5053 - val_loss: 29.1633\n",
            "Epoch 119/500\n",
            "\u001b[1m8/8\u001b[0m \u001b[32m━━━━━━━━━━━━━━━━━━━━\u001b[0m\u001b[37m\u001b[0m \u001b[1m0s\u001b[0m 4ms/step - loss: 56.3974 - val_loss: 28.9054\n",
            "Epoch 120/500\n",
            "\u001b[1m8/8\u001b[0m \u001b[32m━━━━━━━━━━━━━━━━━━━━\u001b[0m\u001b[37m\u001b[0m \u001b[1m0s\u001b[0m 4ms/step - loss: 69.7397 - val_loss: 28.6462\n",
            "Epoch 121/500\n",
            "\u001b[1m8/8\u001b[0m \u001b[32m━━━━━━━━━━━━━━━━━━━━\u001b[0m\u001b[37m\u001b[0m \u001b[1m0s\u001b[0m 4ms/step - loss: 63.9218 - val_loss: 28.2826\n",
            "Epoch 122/500\n",
            "\u001b[1m8/8\u001b[0m \u001b[32m━━━━━━━━━━━━━━━━━━━━\u001b[0m\u001b[37m\u001b[0m \u001b[1m0s\u001b[0m 4ms/step - loss: 56.9381 - val_loss: 28.0248\n",
            "Epoch 123/500\n",
            "\u001b[1m8/8\u001b[0m \u001b[32m━━━━━━━━━━━━━━━━━━━━\u001b[0m\u001b[37m\u001b[0m \u001b[1m0s\u001b[0m 4ms/step - loss: 60.1866 - val_loss: 27.8114\n",
            "Epoch 124/500\n",
            "\u001b[1m8/8\u001b[0m \u001b[32m━━━━━━━━━━━━━━━━━━━━\u001b[0m\u001b[37m\u001b[0m \u001b[1m0s\u001b[0m 5ms/step - loss: 58.3992 - val_loss: 27.6398\n",
            "Epoch 125/500\n",
            "\u001b[1m8/8\u001b[0m \u001b[32m━━━━━━━━━━━━━━━━━━━━\u001b[0m\u001b[37m\u001b[0m \u001b[1m0s\u001b[0m 4ms/step - loss: 68.4271 - val_loss: 27.3878\n",
            "Epoch 126/500\n",
            "\u001b[1m8/8\u001b[0m \u001b[32m━━━━━━━━━━━━━━━━━━━━\u001b[0m\u001b[37m\u001b[0m \u001b[1m0s\u001b[0m 4ms/step - loss: 68.7333 - val_loss: 27.2626\n",
            "Epoch 127/500\n",
            "\u001b[1m8/8\u001b[0m \u001b[32m━━━━━━━━━━━━━━━━━━━━\u001b[0m\u001b[37m\u001b[0m \u001b[1m0s\u001b[0m 4ms/step - loss: 62.3152 - val_loss: 27.1876\n",
            "Epoch 128/500\n",
            "\u001b[1m8/8\u001b[0m \u001b[32m━━━━━━━━━━━━━━━━━━━━\u001b[0m\u001b[37m\u001b[0m \u001b[1m0s\u001b[0m 4ms/step - loss: 59.9301 - val_loss: 26.9843\n",
            "Epoch 129/500\n",
            "\u001b[1m8/8\u001b[0m \u001b[32m━━━━━━━━━━━━━━━━━━━━\u001b[0m\u001b[37m\u001b[0m \u001b[1m0s\u001b[0m 4ms/step - loss: 66.5027 - val_loss: 26.8488\n",
            "Epoch 130/500\n",
            "\u001b[1m8/8\u001b[0m \u001b[32m━━━━━━━━━━━━━━━━━━━━\u001b[0m\u001b[37m\u001b[0m \u001b[1m0s\u001b[0m 4ms/step - loss: 65.2090 - val_loss: 26.7352\n",
            "Epoch 131/500\n",
            "\u001b[1m8/8\u001b[0m \u001b[32m━━━━━━━━━━━━━━━━━━━━\u001b[0m\u001b[37m\u001b[0m \u001b[1m0s\u001b[0m 4ms/step - loss: 59.1330 - val_loss: 26.6234\n",
            "Epoch 132/500\n",
            "\u001b[1m8/8\u001b[0m \u001b[32m━━━━━━━━━━━━━━━━━━━━\u001b[0m\u001b[37m\u001b[0m \u001b[1m0s\u001b[0m 6ms/step - loss: 57.1163 - val_loss: 26.5477\n",
            "Epoch 133/500\n",
            "\u001b[1m8/8\u001b[0m \u001b[32m━━━━━━━━━━━━━━━━━━━━\u001b[0m\u001b[37m\u001b[0m \u001b[1m0s\u001b[0m 5ms/step - loss: 64.5893 - val_loss: 26.4118\n",
            "Epoch 134/500\n",
            "\u001b[1m8/8\u001b[0m \u001b[32m━━━━━━━━━━━━━━━━━━━━\u001b[0m\u001b[37m\u001b[0m \u001b[1m0s\u001b[0m 4ms/step - loss: 64.1955 - val_loss: 26.2196\n",
            "Epoch 135/500\n",
            "\u001b[1m8/8\u001b[0m \u001b[32m━━━━━━━━━━━━━━━━━━━━\u001b[0m\u001b[37m\u001b[0m \u001b[1m0s\u001b[0m 5ms/step - loss: 58.9694 - val_loss: 26.1623\n",
            "Epoch 136/500\n",
            "\u001b[1m8/8\u001b[0m \u001b[32m━━━━━━━━━━━━━━━━━━━━\u001b[0m\u001b[37m\u001b[0m \u001b[1m0s\u001b[0m 4ms/step - loss: 55.1722 - val_loss: 26.0170\n",
            "Epoch 137/500\n",
            "\u001b[1m8/8\u001b[0m \u001b[32m━━━━━━━━━━━━━━━━━━━━\u001b[0m\u001b[37m\u001b[0m \u001b[1m0s\u001b[0m 4ms/step - loss: 57.1518 - val_loss: 25.8491\n",
            "Epoch 138/500\n",
            "\u001b[1m8/8\u001b[0m \u001b[32m━━━━━━━━━━━━━━━━━━━━\u001b[0m\u001b[37m\u001b[0m \u001b[1m0s\u001b[0m 4ms/step - loss: 67.5472 - val_loss: 25.7043\n",
            "Epoch 139/500\n",
            "\u001b[1m8/8\u001b[0m \u001b[32m━━━━━━━━━━━━━━━━━━━━\u001b[0m\u001b[37m\u001b[0m \u001b[1m0s\u001b[0m 4ms/step - loss: 59.4616 - val_loss: 25.6138\n",
            "Epoch 140/500\n",
            "\u001b[1m8/8\u001b[0m \u001b[32m━━━━━━━━━━━━━━━━━━━━\u001b[0m\u001b[37m\u001b[0m \u001b[1m0s\u001b[0m 5ms/step - loss: 68.2859 - val_loss: 25.5406\n",
            "Epoch 141/500\n",
            "\u001b[1m8/8\u001b[0m \u001b[32m━━━━━━━━━━━━━━━━━━━━\u001b[0m\u001b[37m\u001b[0m \u001b[1m0s\u001b[0m 4ms/step - loss: 74.9656 - val_loss: 25.4282\n",
            "Epoch 142/500\n",
            "\u001b[1m8/8\u001b[0m \u001b[32m━━━━━━━━━━━━━━━━━━━━\u001b[0m\u001b[37m\u001b[0m \u001b[1m0s\u001b[0m 4ms/step - loss: 56.7663 - val_loss: 25.4704\n",
            "Epoch 143/500\n",
            "\u001b[1m8/8\u001b[0m \u001b[32m━━━━━━━━━━━━━━━━━━━━\u001b[0m\u001b[37m\u001b[0m \u001b[1m0s\u001b[0m 4ms/step - loss: 57.0368 - val_loss: 25.4223\n",
            "Epoch 144/500\n",
            "\u001b[1m8/8\u001b[0m \u001b[32m━━━━━━━━━━━━━━━━━━━━\u001b[0m\u001b[37m\u001b[0m \u001b[1m0s\u001b[0m 4ms/step - loss: 66.1737 - val_loss: 25.2970\n",
            "Epoch 145/500\n",
            "\u001b[1m8/8\u001b[0m \u001b[32m━━━━━━━━━━━━━━━━━━━━\u001b[0m\u001b[37m\u001b[0m \u001b[1m0s\u001b[0m 4ms/step - loss: 63.8545 - val_loss: 25.1493\n",
            "Epoch 146/500\n",
            "\u001b[1m8/8\u001b[0m \u001b[32m━━━━━━━━━━━━━━━━━━━━\u001b[0m\u001b[37m\u001b[0m \u001b[1m0s\u001b[0m 4ms/step - loss: 58.7845 - val_loss: 25.1452\n",
            "Epoch 147/500\n",
            "\u001b[1m8/8\u001b[0m \u001b[32m━━━━━━━━━━━━━━━━━━━━\u001b[0m\u001b[37m\u001b[0m \u001b[1m0s\u001b[0m 5ms/step - loss: 66.5083 - val_loss: 25.0861\n",
            "Epoch 148/500\n",
            "\u001b[1m8/8\u001b[0m \u001b[32m━━━━━━━━━━━━━━━━━━━━\u001b[0m\u001b[37m\u001b[0m \u001b[1m0s\u001b[0m 5ms/step - loss: 63.8022 - val_loss: 25.1060\n",
            "Epoch 149/500\n",
            "\u001b[1m8/8\u001b[0m \u001b[32m━━━━━━━━━━━━━━━━━━━━\u001b[0m\u001b[37m\u001b[0m \u001b[1m0s\u001b[0m 5ms/step - loss: 58.9265 - val_loss: 25.0178\n",
            "Epoch 150/500\n",
            "\u001b[1m8/8\u001b[0m \u001b[32m━━━━━━━━━━━━━━━━━━━━\u001b[0m\u001b[37m\u001b[0m \u001b[1m0s\u001b[0m 5ms/step - loss: 62.9167 - val_loss: 24.9767\n",
            "Epoch 151/500\n",
            "\u001b[1m8/8\u001b[0m \u001b[32m━━━━━━━━━━━━━━━━━━━━\u001b[0m\u001b[37m\u001b[0m \u001b[1m0s\u001b[0m 5ms/step - loss: 56.9017 - val_loss: 24.8997\n",
            "Epoch 152/500\n",
            "\u001b[1m8/8\u001b[0m \u001b[32m━━━━━━━━━━━━━━━━━━━━\u001b[0m\u001b[37m\u001b[0m \u001b[1m0s\u001b[0m 4ms/step - loss: 55.0188 - val_loss: 24.8391\n",
            "Epoch 153/500\n",
            "\u001b[1m8/8\u001b[0m \u001b[32m━━━━━━━━━━━━━━━━━━━━\u001b[0m\u001b[37m\u001b[0m \u001b[1m0s\u001b[0m 4ms/step - loss: 73.1188 - val_loss: 24.7207\n",
            "Epoch 154/500\n",
            "\u001b[1m8/8\u001b[0m \u001b[32m━━━━━━━━━━━━━━━━━━━━\u001b[0m\u001b[37m\u001b[0m \u001b[1m0s\u001b[0m 4ms/step - loss: 58.0405 - val_loss: 24.6209\n",
            "Epoch 155/500\n",
            "\u001b[1m8/8\u001b[0m \u001b[32m━━━━━━━━━━━━━━━━━━━━\u001b[0m\u001b[37m\u001b[0m \u001b[1m0s\u001b[0m 5ms/step - loss: 55.6623 - val_loss: 24.5881\n",
            "Epoch 156/500\n",
            "\u001b[1m8/8\u001b[0m \u001b[32m━━━━━━━━━━━━━━━━━━━━\u001b[0m\u001b[37m\u001b[0m \u001b[1m0s\u001b[0m 4ms/step - loss: 59.4482 - val_loss: 24.4824\n",
            "Epoch 157/500\n",
            "\u001b[1m8/8\u001b[0m \u001b[32m━━━━━━━━━━━━━━━━━━━━\u001b[0m\u001b[37m\u001b[0m \u001b[1m0s\u001b[0m 5ms/step - loss: 62.3239 - val_loss: 24.4867\n",
            "Epoch 158/500\n",
            "\u001b[1m8/8\u001b[0m \u001b[32m━━━━━━━━━━━━━━━━━━━━\u001b[0m\u001b[37m\u001b[0m \u001b[1m0s\u001b[0m 4ms/step - loss: 69.0440 - val_loss: 24.4451\n",
            "Epoch 159/500\n",
            "\u001b[1m8/8\u001b[0m \u001b[32m━━━━━━━━━━━━━━━━━━━━\u001b[0m\u001b[37m\u001b[0m \u001b[1m0s\u001b[0m 4ms/step - loss: 63.8449 - val_loss: 24.3773\n",
            "Epoch 160/500\n",
            "\u001b[1m8/8\u001b[0m \u001b[32m━━━━━━━━━━━━━━━━━━━━\u001b[0m\u001b[37m\u001b[0m \u001b[1m0s\u001b[0m 4ms/step - loss: 69.4365 - val_loss: 24.2981\n",
            "Epoch 161/500\n",
            "\u001b[1m8/8\u001b[0m \u001b[32m━━━━━━━━━━━━━━━━━━━━\u001b[0m\u001b[37m\u001b[0m \u001b[1m0s\u001b[0m 5ms/step - loss: 70.8209 - val_loss: 24.1715\n",
            "Epoch 162/500\n",
            "\u001b[1m8/8\u001b[0m \u001b[32m━━━━━━━━━━━━━━━━━━━━\u001b[0m\u001b[37m\u001b[0m \u001b[1m0s\u001b[0m 4ms/step - loss: 54.0880 - val_loss: 24.1144\n",
            "Epoch 163/500\n",
            "\u001b[1m8/8\u001b[0m \u001b[32m━━━━━━━━━━━━━━━━━━━━\u001b[0m\u001b[37m\u001b[0m \u001b[1m0s\u001b[0m 5ms/step - loss: 54.5686 - val_loss: 24.0206\n",
            "Epoch 164/500\n",
            "\u001b[1m8/8\u001b[0m \u001b[32m━━━━━━━━━━━━━━━━━━━━\u001b[0m\u001b[37m\u001b[0m \u001b[1m0s\u001b[0m 5ms/step - loss: 59.2721 - val_loss: 24.0536\n",
            "Epoch 165/500\n",
            "\u001b[1m8/8\u001b[0m \u001b[32m━━━━━━━━━━━━━━━━━━━━\u001b[0m\u001b[37m\u001b[0m \u001b[1m0s\u001b[0m 4ms/step - loss: 64.9934 - val_loss: 24.0598\n",
            "Epoch 166/500\n",
            "\u001b[1m8/8\u001b[0m \u001b[32m━━━━━━━━━━━━━━━━━━━━\u001b[0m\u001b[37m\u001b[0m \u001b[1m0s\u001b[0m 4ms/step - loss: 74.2954 - val_loss: 24.0333\n",
            "Epoch 167/500\n",
            "\u001b[1m8/8\u001b[0m \u001b[32m━━━━━━━━━━━━━━━━━━━━\u001b[0m\u001b[37m\u001b[0m \u001b[1m0s\u001b[0m 4ms/step - loss: 58.2146 - val_loss: 24.1497\n",
            "Epoch 168/500\n",
            "\u001b[1m8/8\u001b[0m \u001b[32m━━━━━━━━━━━━━━━━━━━━\u001b[0m\u001b[37m\u001b[0m \u001b[1m0s\u001b[0m 4ms/step - loss: 62.5135 - val_loss: 24.0832\n",
            "Epoch 169/500\n",
            "\u001b[1m8/8\u001b[0m \u001b[32m━━━━━━━━━━━━━━━━━━━━\u001b[0m\u001b[37m\u001b[0m \u001b[1m0s\u001b[0m 4ms/step - loss: 66.5209 - val_loss: 24.0170\n",
            "Epoch 170/500\n",
            "\u001b[1m8/8\u001b[0m \u001b[32m━━━━━━━━━━━━━━━━━━━━\u001b[0m\u001b[37m\u001b[0m \u001b[1m0s\u001b[0m 4ms/step - loss: 63.0400 - val_loss: 23.9715\n",
            "Epoch 171/500\n",
            "\u001b[1m8/8\u001b[0m \u001b[32m━━━━━━━━━━━━━━━━━━━━\u001b[0m\u001b[37m\u001b[0m \u001b[1m0s\u001b[0m 4ms/step - loss: 69.7068 - val_loss: 23.9247\n",
            "Epoch 172/500\n",
            "\u001b[1m8/8\u001b[0m \u001b[32m━━━━━━━━━━━━━━━━━━━━\u001b[0m\u001b[37m\u001b[0m \u001b[1m0s\u001b[0m 4ms/step - loss: 59.5820 - val_loss: 23.8789\n",
            "Epoch 173/500\n",
            "\u001b[1m8/8\u001b[0m \u001b[32m━━━━━━━━━━━━━━━━━━━━\u001b[0m\u001b[37m\u001b[0m \u001b[1m0s\u001b[0m 4ms/step - loss: 60.7243 - val_loss: 23.8736\n",
            "Epoch 174/500\n",
            "\u001b[1m8/8\u001b[0m \u001b[32m━━━━━━━━━━━━━━━━━━━━\u001b[0m\u001b[37m\u001b[0m \u001b[1m0s\u001b[0m 4ms/step - loss: 64.8115 - val_loss: 23.8228\n",
            "Epoch 175/500\n",
            "\u001b[1m8/8\u001b[0m \u001b[32m━━━━━━━━━━━━━━━━━━━━\u001b[0m\u001b[37m\u001b[0m \u001b[1m0s\u001b[0m 4ms/step - loss: 65.3648 - val_loss: 23.7330\n",
            "Epoch 176/500\n",
            "\u001b[1m8/8\u001b[0m \u001b[32m━━━━━━━━━━━━━━━━━━━━\u001b[0m\u001b[37m\u001b[0m \u001b[1m0s\u001b[0m 4ms/step - loss: 53.3882 - val_loss: 23.6729\n",
            "Epoch 177/500\n",
            "\u001b[1m8/8\u001b[0m \u001b[32m━━━━━━━━━━━━━━━━━━━━\u001b[0m\u001b[37m\u001b[0m \u001b[1m0s\u001b[0m 4ms/step - loss: 62.9564 - val_loss: 23.5763\n",
            "Epoch 178/500\n",
            "\u001b[1m8/8\u001b[0m \u001b[32m━━━━━━━━━━━━━━━━━━━━\u001b[0m\u001b[37m\u001b[0m \u001b[1m0s\u001b[0m 4ms/step - loss: 53.1862 - val_loss: 23.5686\n",
            "Epoch 179/500\n",
            "\u001b[1m8/8\u001b[0m \u001b[32m━━━━━━━━━━━━━━━━━━━━\u001b[0m\u001b[37m\u001b[0m \u001b[1m0s\u001b[0m 5ms/step - loss: 71.9118 - val_loss: 23.5032\n",
            "Epoch 180/500\n",
            "\u001b[1m8/8\u001b[0m \u001b[32m━━━━━━━━━━━━━━━━━━━━\u001b[0m\u001b[37m\u001b[0m \u001b[1m0s\u001b[0m 6ms/step - loss: 54.8625 - val_loss: 23.4810\n",
            "Epoch 181/500\n",
            "\u001b[1m8/8\u001b[0m \u001b[32m━━━━━━━━━━━━━━━━━━━━\u001b[0m\u001b[37m\u001b[0m \u001b[1m0s\u001b[0m 5ms/step - loss: 67.7276 - val_loss: 23.5301\n",
            "Epoch 182/500\n",
            "\u001b[1m8/8\u001b[0m \u001b[32m━━━━━━━━━━━━━━━━━━━━\u001b[0m\u001b[37m\u001b[0m \u001b[1m0s\u001b[0m 5ms/step - loss: 67.6618 - val_loss: 23.5762\n",
            "Epoch 183/500\n",
            "\u001b[1m8/8\u001b[0m \u001b[32m━━━━━━━━━━━━━━━━━━━━\u001b[0m\u001b[37m\u001b[0m \u001b[1m0s\u001b[0m 8ms/step - loss: 69.8152 - val_loss: 23.5446\n",
            "Epoch 184/500\n",
            "\u001b[1m8/8\u001b[0m \u001b[32m━━━━━━━━━━━━━━━━━━━━\u001b[0m\u001b[37m\u001b[0m \u001b[1m0s\u001b[0m 7ms/step - loss: 57.5726 - val_loss: 23.5985\n",
            "Epoch 185/500\n",
            "\u001b[1m8/8\u001b[0m \u001b[32m━━━━━━━━━━━━━━━━━━━━\u001b[0m\u001b[37m\u001b[0m \u001b[1m0s\u001b[0m 8ms/step - loss: 67.9535 - val_loss: 23.7084\n",
            "Epoch 186/500\n",
            "\u001b[1m8/8\u001b[0m \u001b[32m━━━━━━━━━━━━━━━━━━━━\u001b[0m\u001b[37m\u001b[0m \u001b[1m0s\u001b[0m 7ms/step - loss: 63.9566 - val_loss: 23.8310\n",
            "Epoch 187/500\n",
            "\u001b[1m8/8\u001b[0m \u001b[32m━━━━━━━━━━━━━━━━━━━━\u001b[0m\u001b[37m\u001b[0m \u001b[1m0s\u001b[0m 6ms/step - loss: 50.9651 - val_loss: 23.8171\n",
            "Epoch 188/500\n",
            "\u001b[1m8/8\u001b[0m \u001b[32m━━━━━━━━━━━━━━━━━━━━\u001b[0m\u001b[37m\u001b[0m \u001b[1m0s\u001b[0m 6ms/step - loss: 68.9294 - val_loss: 23.8429\n",
            "Epoch 189/500\n",
            "\u001b[1m8/8\u001b[0m \u001b[32m━━━━━━━━━━━━━━━━━━━━\u001b[0m\u001b[37m\u001b[0m \u001b[1m0s\u001b[0m 6ms/step - loss: 51.8449 - val_loss: 23.9344\n",
            "Epoch 190/500\n",
            "\u001b[1m8/8\u001b[0m \u001b[32m━━━━━━━━━━━━━━━━━━━━\u001b[0m\u001b[37m\u001b[0m \u001b[1m0s\u001b[0m 9ms/step - loss: 57.1478 - val_loss: 23.8639\n",
            "Epoch 191/500\n",
            "\u001b[1m8/8\u001b[0m \u001b[32m━━━━━━━━━━━━━━━━━━━━\u001b[0m\u001b[37m\u001b[0m \u001b[1m0s\u001b[0m 5ms/step - loss: 53.5257 - val_loss: 23.7596\n",
            "Epoch 192/500\n",
            "\u001b[1m8/8\u001b[0m \u001b[32m━━━━━━━━━━━━━━━━━━━━\u001b[0m\u001b[37m\u001b[0m \u001b[1m0s\u001b[0m 6ms/step - loss: 53.3977 - val_loss: 23.9247\n",
            "Epoch 193/500\n",
            "\u001b[1m8/8\u001b[0m \u001b[32m━━━━━━━━━━━━━━━━━━━━\u001b[0m\u001b[37m\u001b[0m \u001b[1m0s\u001b[0m 9ms/step - loss: 53.1578 - val_loss: 24.0209\n",
            "Epoch 194/500\n",
            "\u001b[1m8/8\u001b[0m \u001b[32m━━━━━━━━━━━━━━━━━━━━\u001b[0m\u001b[37m\u001b[0m \u001b[1m0s\u001b[0m 6ms/step - loss: 63.0125 - val_loss: 24.1136\n",
            "Epoch 195/500\n",
            "\u001b[1m8/8\u001b[0m \u001b[32m━━━━━━━━━━━━━━━━━━━━\u001b[0m\u001b[37m\u001b[0m \u001b[1m0s\u001b[0m 7ms/step - loss: 56.1090 - val_loss: 24.0994\n",
            "Epoch 196/500\n",
            "\u001b[1m8/8\u001b[0m \u001b[32m━━━━━━━━━━━━━━━━━━━━\u001b[0m\u001b[37m\u001b[0m \u001b[1m0s\u001b[0m 6ms/step - loss: 59.6873 - val_loss: 23.9310\n",
            "Epoch 197/500\n",
            "\u001b[1m8/8\u001b[0m \u001b[32m━━━━━━━━━━━━━━━━━━━━\u001b[0m\u001b[37m\u001b[0m \u001b[1m0s\u001b[0m 7ms/step - loss: 60.0547 - val_loss: 23.7610\n",
            "Epoch 198/500\n",
            "\u001b[1m8/8\u001b[0m \u001b[32m━━━━━━━━━━━━━━━━━━━━\u001b[0m\u001b[37m\u001b[0m \u001b[1m0s\u001b[0m 7ms/step - loss: 54.1514 - val_loss: 23.7101\n",
            "Epoch 199/500\n",
            "\u001b[1m8/8\u001b[0m \u001b[32m━━━━━━━━━━━━━━━━━━━━\u001b[0m\u001b[37m\u001b[0m \u001b[1m0s\u001b[0m 6ms/step - loss: 60.4094 - val_loss: 23.5823\n",
            "Epoch 200/500\n",
            "\u001b[1m8/8\u001b[0m \u001b[32m━━━━━━━━━━━━━━━━━━━━\u001b[0m\u001b[37m\u001b[0m \u001b[1m0s\u001b[0m 6ms/step - loss: 58.3282 - val_loss: 23.4448\n",
            "Epoch 201/500\n",
            "\u001b[1m8/8\u001b[0m \u001b[32m━━━━━━━━━━━━━━━━━━━━\u001b[0m\u001b[37m\u001b[0m \u001b[1m0s\u001b[0m 6ms/step - loss: 62.7130 - val_loss: 23.4072\n",
            "Epoch 202/500\n",
            "\u001b[1m8/8\u001b[0m \u001b[32m━━━━━━━━━━━━━━━━━━━━\u001b[0m\u001b[37m\u001b[0m \u001b[1m0s\u001b[0m 6ms/step - loss: 56.7094 - val_loss: 23.3302\n",
            "Epoch 203/500\n",
            "\u001b[1m8/8\u001b[0m \u001b[32m━━━━━━━━━━━━━━━━━━━━\u001b[0m\u001b[37m\u001b[0m \u001b[1m0s\u001b[0m 4ms/step - loss: 68.7156 - val_loss: 23.3410\n",
            "Epoch 204/500\n",
            "\u001b[1m8/8\u001b[0m \u001b[32m━━━━━━━━━━━━━━━━━━━━\u001b[0m\u001b[37m\u001b[0m \u001b[1m0s\u001b[0m 5ms/step - loss: 73.3605 - val_loss: 23.2854\n",
            "Epoch 205/500\n",
            "\u001b[1m8/8\u001b[0m \u001b[32m━━━━━━━━━━━━━━━━━━━━\u001b[0m\u001b[37m\u001b[0m \u001b[1m0s\u001b[0m 4ms/step - loss: 54.8344 - val_loss: 23.2310\n",
            "Epoch 206/500\n",
            "\u001b[1m8/8\u001b[0m \u001b[32m━━━━━━━━━━━━━━━━━━━━\u001b[0m\u001b[37m\u001b[0m \u001b[1m0s\u001b[0m 5ms/step - loss: 56.2363 - val_loss: 23.3003\n",
            "Epoch 207/500\n",
            "\u001b[1m8/8\u001b[0m \u001b[32m━━━━━━━━━━━━━━━━━━━━\u001b[0m\u001b[37m\u001b[0m \u001b[1m0s\u001b[0m 5ms/step - loss: 55.7494 - val_loss: 23.1700\n",
            "Epoch 208/500\n",
            "\u001b[1m8/8\u001b[0m \u001b[32m━━━━━━━━━━━━━━━━━━━━\u001b[0m\u001b[37m\u001b[0m \u001b[1m0s\u001b[0m 4ms/step - loss: 70.0304 - val_loss: 23.0786\n",
            "Epoch 209/500\n",
            "\u001b[1m8/8\u001b[0m \u001b[32m━━━━━━━━━━━━━━━━━━━━\u001b[0m\u001b[37m\u001b[0m \u001b[1m0s\u001b[0m 4ms/step - loss: 57.2269 - val_loss: 22.9936\n",
            "Epoch 210/500\n",
            "\u001b[1m8/8\u001b[0m \u001b[32m━━━━━━━━━━━━━━━━━━━━\u001b[0m\u001b[37m\u001b[0m \u001b[1m0s\u001b[0m 4ms/step - loss: 51.2019 - val_loss: 23.0317\n",
            "Epoch 211/500\n",
            "\u001b[1m8/8\u001b[0m \u001b[32m━━━━━━━━━━━━━━━━━━━━\u001b[0m\u001b[37m\u001b[0m \u001b[1m0s\u001b[0m 4ms/step - loss: 63.3319 - val_loss: 23.0941\n",
            "Epoch 212/500\n",
            "\u001b[1m8/8\u001b[0m \u001b[32m━━━━━━━━━━━━━━━━━━━━\u001b[0m\u001b[37m\u001b[0m \u001b[1m0s\u001b[0m 5ms/step - loss: 60.6957 - val_loss: 23.0526\n",
            "Epoch 213/500\n",
            "\u001b[1m8/8\u001b[0m \u001b[32m━━━━━━━━━━━━━━━━━━━━\u001b[0m\u001b[37m\u001b[0m \u001b[1m0s\u001b[0m 4ms/step - loss: 54.3405 - val_loss: 23.0633\n",
            "Epoch 214/500\n",
            "\u001b[1m8/8\u001b[0m \u001b[32m━━━━━━━━━━━━━━━━━━━━\u001b[0m\u001b[37m\u001b[0m \u001b[1m0s\u001b[0m 5ms/step - loss: 56.4683 - val_loss: 23.0582\n",
            "Epoch 215/500\n",
            "\u001b[1m8/8\u001b[0m \u001b[32m━━━━━━━━━━━━━━━━━━━━\u001b[0m\u001b[37m\u001b[0m \u001b[1m0s\u001b[0m 4ms/step - loss: 68.8902 - val_loss: 23.0576\n",
            "Epoch 216/500\n",
            "\u001b[1m8/8\u001b[0m \u001b[32m━━━━━━━━━━━━━━━━━━━━\u001b[0m\u001b[37m\u001b[0m \u001b[1m0s\u001b[0m 5ms/step - loss: 59.5382 - val_loss: 22.9472\n",
            "Epoch 217/500\n",
            "\u001b[1m8/8\u001b[0m \u001b[32m━━━━━━━━━━━━━━━━━━━━\u001b[0m\u001b[37m\u001b[0m \u001b[1m0s\u001b[0m 4ms/step - loss: 58.6958 - val_loss: 22.7788\n",
            "Epoch 218/500\n",
            "\u001b[1m8/8\u001b[0m \u001b[32m━━━━━━━━━━━━━━━━━━━━\u001b[0m\u001b[37m\u001b[0m \u001b[1m0s\u001b[0m 6ms/step - loss: 65.8523 - val_loss: 22.8754\n",
            "Epoch 219/500\n",
            "\u001b[1m8/8\u001b[0m \u001b[32m━━━━━━━━━━━━━━━━━━━━\u001b[0m\u001b[37m\u001b[0m \u001b[1m0s\u001b[0m 5ms/step - loss: 77.6464 - val_loss: 22.9365\n",
            "Epoch 220/500\n",
            "\u001b[1m8/8\u001b[0m \u001b[32m━━━━━━━━━━━━━━━━━━━━\u001b[0m\u001b[37m\u001b[0m \u001b[1m0s\u001b[0m 7ms/step - loss: 56.8095 - val_loss: 23.0824\n",
            "Epoch 221/500\n",
            "\u001b[1m8/8\u001b[0m \u001b[32m━━━━━━━━━━━━━━━━━━━━\u001b[0m\u001b[37m\u001b[0m \u001b[1m0s\u001b[0m 5ms/step - loss: 59.0934 - val_loss: 23.1858\n",
            "Epoch 222/500\n",
            "\u001b[1m8/8\u001b[0m \u001b[32m━━━━━━━━━━━━━━━━━━━━\u001b[0m\u001b[37m\u001b[0m \u001b[1m0s\u001b[0m 5ms/step - loss: 59.0092 - val_loss: 23.2811\n",
            "Epoch 223/500\n",
            "\u001b[1m8/8\u001b[0m \u001b[32m━━━━━━━━━━━━━━━━━━━━\u001b[0m\u001b[37m\u001b[0m \u001b[1m0s\u001b[0m 4ms/step - loss: 57.3169 - val_loss: 23.5163\n",
            "Epoch 224/500\n",
            "\u001b[1m8/8\u001b[0m \u001b[32m━━━━━━━━━━━━━━━━━━━━\u001b[0m\u001b[37m\u001b[0m \u001b[1m0s\u001b[0m 4ms/step - loss: 68.0606 - val_loss: 23.6864\n",
            "Epoch 225/500\n",
            "\u001b[1m8/8\u001b[0m \u001b[32m━━━━━━━━━━━━━━━━━━━━\u001b[0m\u001b[37m\u001b[0m \u001b[1m0s\u001b[0m 4ms/step - loss: 56.0715 - val_loss: 23.7234\n",
            "Epoch 226/500\n",
            "\u001b[1m8/8\u001b[0m \u001b[32m━━━━━━━━━━━━━━━━━━━━\u001b[0m\u001b[37m\u001b[0m \u001b[1m0s\u001b[0m 4ms/step - loss: 64.6595 - val_loss: 23.6375\n",
            "Epoch 227/500\n",
            "\u001b[1m8/8\u001b[0m \u001b[32m━━━━━━━━━━━━━━━━━━━━\u001b[0m\u001b[37m\u001b[0m \u001b[1m0s\u001b[0m 4ms/step - loss: 61.5276 - val_loss: 23.6643\n",
            "Epoch 228/500\n",
            "\u001b[1m8/8\u001b[0m \u001b[32m━━━━━━━━━━━━━━━━━━━━\u001b[0m\u001b[37m\u001b[0m \u001b[1m0s\u001b[0m 4ms/step - loss: 50.9221 - val_loss: 23.7484\n",
            "Epoch 229/500\n",
            "\u001b[1m8/8\u001b[0m \u001b[32m━━━━━━━━━━━━━━━━━━━━\u001b[0m\u001b[37m\u001b[0m \u001b[1m0s\u001b[0m 5ms/step - loss: 62.4601 - val_loss: 23.7117\n",
            "Epoch 230/500\n",
            "\u001b[1m8/8\u001b[0m \u001b[32m━━━━━━━━━━━━━━━━━━━━\u001b[0m\u001b[37m\u001b[0m \u001b[1m0s\u001b[0m 4ms/step - loss: 53.2740 - val_loss: 23.7205\n",
            "Epoch 231/500\n",
            "\u001b[1m8/8\u001b[0m \u001b[32m━━━━━━━━━━━━━━━━━━━━\u001b[0m\u001b[37m\u001b[0m \u001b[1m0s\u001b[0m 4ms/step - loss: 66.2670 - val_loss: 23.5221\n",
            "Epoch 232/500\n",
            "\u001b[1m8/8\u001b[0m \u001b[32m━━━━━━━━━━━━━━━━━━━━\u001b[0m\u001b[37m\u001b[0m \u001b[1m0s\u001b[0m 5ms/step - loss: 61.6893 - val_loss: 23.3848\n",
            "Epoch 233/500\n",
            "\u001b[1m8/8\u001b[0m \u001b[32m━━━━━━━━━━━━━━━━━━━━\u001b[0m\u001b[37m\u001b[0m \u001b[1m0s\u001b[0m 5ms/step - loss: 65.3661 - val_loss: 23.2381\n",
            "Epoch 234/500\n",
            "\u001b[1m8/8\u001b[0m \u001b[32m━━━━━━━━━━━━━━━━━━━━\u001b[0m\u001b[37m\u001b[0m \u001b[1m0s\u001b[0m 5ms/step - loss: 70.7284 - val_loss: 23.1166\n",
            "Epoch 235/500\n",
            "\u001b[1m8/8\u001b[0m \u001b[32m━━━━━━━━━━━━━━━━━━━━\u001b[0m\u001b[37m\u001b[0m \u001b[1m0s\u001b[0m 6ms/step - loss: 54.9028 - val_loss: 23.0558\n",
            "Epoch 236/500\n",
            "\u001b[1m8/8\u001b[0m \u001b[32m━━━━━━━━━━━━━━━━━━━━\u001b[0m\u001b[37m\u001b[0m \u001b[1m0s\u001b[0m 4ms/step - loss: 62.0841 - val_loss: 23.1527\n",
            "Epoch 237/500\n",
            "\u001b[1m8/8\u001b[0m \u001b[32m━━━━━━━━━━━━━━━━━━━━\u001b[0m\u001b[37m\u001b[0m \u001b[1m0s\u001b[0m 4ms/step - loss: 60.6086 - val_loss: 23.0766\n",
            "Epoch 238/500\n",
            "\u001b[1m8/8\u001b[0m \u001b[32m━━━━━━━━━━━━━━━━━━━━\u001b[0m\u001b[37m\u001b[0m \u001b[1m0s\u001b[0m 4ms/step - loss: 64.6831 - val_loss: 23.0684\n",
            "Epoch 239/500\n",
            "\u001b[1m8/8\u001b[0m \u001b[32m━━━━━━━━━━━━━━━━━━━━\u001b[0m\u001b[37m\u001b[0m \u001b[1m0s\u001b[0m 5ms/step - loss: 60.6089 - val_loss: 23.0325\n",
            "Epoch 240/500\n",
            "\u001b[1m8/8\u001b[0m \u001b[32m━━━━━━━━━━━━━━━━━━━━\u001b[0m\u001b[37m\u001b[0m \u001b[1m0s\u001b[0m 4ms/step - loss: 58.0133 - val_loss: 23.0069\n",
            "Epoch 241/500\n",
            "\u001b[1m8/8\u001b[0m \u001b[32m━━━━━━━━━━━━━━━━━━━━\u001b[0m\u001b[37m\u001b[0m \u001b[1m0s\u001b[0m 5ms/step - loss: 55.3754 - val_loss: 22.7810\n",
            "Epoch 242/500\n",
            "\u001b[1m8/8\u001b[0m \u001b[32m━━━━━━━━━━━━━━━━━━━━\u001b[0m\u001b[37m\u001b[0m \u001b[1m0s\u001b[0m 4ms/step - loss: 67.3092 - val_loss: 22.8125\n",
            "Epoch 243/500\n",
            "\u001b[1m8/8\u001b[0m \u001b[32m━━━━━━━━━━━━━━━━━━━━\u001b[0m\u001b[37m\u001b[0m \u001b[1m0s\u001b[0m 4ms/step - loss: 68.1759 - val_loss: 22.9394\n",
            "Epoch 244/500\n",
            "\u001b[1m8/8\u001b[0m \u001b[32m━━━━━━━━━━━━━━━━━━━━\u001b[0m\u001b[37m\u001b[0m \u001b[1m0s\u001b[0m 4ms/step - loss: 58.6432 - val_loss: 22.9461\n",
            "Epoch 245/500\n",
            "\u001b[1m8/8\u001b[0m \u001b[32m━━━━━━━━━━━━━━━━━━━━\u001b[0m\u001b[37m\u001b[0m \u001b[1m0s\u001b[0m 4ms/step - loss: 53.9373 - val_loss: 23.0051\n",
            "Epoch 246/500\n",
            "\u001b[1m8/8\u001b[0m \u001b[32m━━━━━━━━━━━━━━━━━━━━\u001b[0m\u001b[37m\u001b[0m \u001b[1m0s\u001b[0m 4ms/step - loss: 62.3313 - val_loss: 22.9660\n",
            "Epoch 247/500\n",
            "\u001b[1m8/8\u001b[0m \u001b[32m━━━━━━━━━━━━━━━━━━━━\u001b[0m\u001b[37m\u001b[0m \u001b[1m0s\u001b[0m 5ms/step - loss: 53.8476 - val_loss: 22.9425\n",
            "Epoch 248/500\n",
            "\u001b[1m8/8\u001b[0m \u001b[32m━━━━━━━━━━━━━━━━━━━━\u001b[0m\u001b[37m\u001b[0m \u001b[1m0s\u001b[0m 4ms/step - loss: 59.4238 - val_loss: 22.8971\n",
            "Epoch 249/500\n",
            "\u001b[1m8/8\u001b[0m \u001b[32m━━━━━━━━━━━━━━━━━━━━\u001b[0m\u001b[37m\u001b[0m \u001b[1m0s\u001b[0m 5ms/step - loss: 52.6884 - val_loss: 23.0758\n",
            "Epoch 250/500\n",
            "\u001b[1m8/8\u001b[0m \u001b[32m━━━━━━━━━━━━━━━━━━━━\u001b[0m\u001b[37m\u001b[0m \u001b[1m0s\u001b[0m 5ms/step - loss: 63.3689 - val_loss: 23.1441\n",
            "Epoch 251/500\n",
            "\u001b[1m8/8\u001b[0m \u001b[32m━━━━━━━━━━━━━━━━━━━━\u001b[0m\u001b[37m\u001b[0m \u001b[1m0s\u001b[0m 5ms/step - loss: 53.3096 - val_loss: 23.1597\n",
            "Epoch 252/500\n",
            "\u001b[1m8/8\u001b[0m \u001b[32m━━━━━━━━━━━━━━━━━━━━\u001b[0m\u001b[37m\u001b[0m \u001b[1m0s\u001b[0m 4ms/step - loss: 58.3419 - val_loss: 23.2683\n",
            "Epoch 253/500\n",
            "\u001b[1m8/8\u001b[0m \u001b[32m━━━━━━━━━━━━━━━━━━━━\u001b[0m\u001b[37m\u001b[0m \u001b[1m0s\u001b[0m 4ms/step - loss: 60.3873 - val_loss: 23.2560\n",
            "Epoch 254/500\n",
            "\u001b[1m8/8\u001b[0m \u001b[32m━━━━━━━━━━━━━━━━━━━━\u001b[0m\u001b[37m\u001b[0m \u001b[1m0s\u001b[0m 5ms/step - loss: 64.5889 - val_loss: 23.1301\n",
            "Epoch 255/500\n",
            "\u001b[1m8/8\u001b[0m \u001b[32m━━━━━━━━━━━━━━━━━━━━\u001b[0m\u001b[37m\u001b[0m \u001b[1m0s\u001b[0m 4ms/step - loss: 60.0035 - val_loss: 23.1171\n",
            "Epoch 256/500\n",
            "\u001b[1m8/8\u001b[0m \u001b[32m━━━━━━━━━━━━━━━━━━━━\u001b[0m\u001b[37m\u001b[0m \u001b[1m0s\u001b[0m 4ms/step - loss: 63.2911 - val_loss: 23.0518\n",
            "Epoch 257/500\n",
            "\u001b[1m8/8\u001b[0m \u001b[32m━━━━━━━━━━━━━━━━━━━━\u001b[0m\u001b[37m\u001b[0m \u001b[1m0s\u001b[0m 4ms/step - loss: 50.2919 - val_loss: 23.0436\n",
            "Epoch 258/500\n",
            "\u001b[1m8/8\u001b[0m \u001b[32m━━━━━━━━━━━━━━━━━━━━\u001b[0m\u001b[37m\u001b[0m \u001b[1m0s\u001b[0m 4ms/step - loss: 53.0641 - val_loss: 23.1428\n",
            "Epoch 259/500\n",
            "\u001b[1m8/8\u001b[0m \u001b[32m━━━━━━━━━━━━━━━━━━━━\u001b[0m\u001b[37m\u001b[0m \u001b[1m0s\u001b[0m 4ms/step - loss: 58.3351 - val_loss: 23.1461\n",
            "Epoch 260/500\n",
            "\u001b[1m8/8\u001b[0m \u001b[32m━━━━━━━━━━━━━━━━━━━━\u001b[0m\u001b[37m\u001b[0m \u001b[1m0s\u001b[0m 4ms/step - loss: 59.7791 - val_loss: 23.0295\n",
            "Epoch 261/500\n",
            "\u001b[1m8/8\u001b[0m \u001b[32m━━━━━━━━━━━━━━━━━━━━\u001b[0m\u001b[37m\u001b[0m \u001b[1m0s\u001b[0m 5ms/step - loss: 65.1193 - val_loss: 23.1234\n",
            "Epoch 262/500\n",
            "\u001b[1m8/8\u001b[0m \u001b[32m━━━━━━━━━━━━━━━━━━━━\u001b[0m\u001b[37m\u001b[0m \u001b[1m0s\u001b[0m 5ms/step - loss: 55.1698 - val_loss: 23.1357\n",
            "Epoch 263/500\n",
            "\u001b[1m8/8\u001b[0m \u001b[32m━━━━━━━━━━━━━━━━━━━━\u001b[0m\u001b[37m\u001b[0m \u001b[1m0s\u001b[0m 5ms/step - loss: 55.4833 - val_loss: 23.1899\n",
            "Epoch 264/500\n",
            "\u001b[1m8/8\u001b[0m \u001b[32m━━━━━━━━━━━━━━━━━━━━\u001b[0m\u001b[37m\u001b[0m \u001b[1m0s\u001b[0m 6ms/step - loss: 57.8564 - val_loss: 23.2374\n",
            "Epoch 265/500\n",
            "\u001b[1m8/8\u001b[0m \u001b[32m━━━━━━━━━━━━━━━━━━━━\u001b[0m\u001b[37m\u001b[0m \u001b[1m0s\u001b[0m 6ms/step - loss: 51.8082 - val_loss: 23.1978\n",
            "Epoch 266/500\n",
            "\u001b[1m8/8\u001b[0m \u001b[32m━━━━━━━━━━━━━━━━━━━━\u001b[0m\u001b[37m\u001b[0m \u001b[1m0s\u001b[0m 6ms/step - loss: 58.4721 - val_loss: 23.2107\n",
            "Epoch 267/500\n",
            "\u001b[1m8/8\u001b[0m \u001b[32m━━━━━━━━━━━━━━━━━━━━\u001b[0m\u001b[37m\u001b[0m \u001b[1m0s\u001b[0m 5ms/step - loss: 57.7672 - val_loss: 23.1430\n",
            "Epoch 268/500\n",
            "\u001b[1m8/8\u001b[0m \u001b[32m━━━━━━━━━━━━━━━━━━━━\u001b[0m\u001b[37m\u001b[0m \u001b[1m0s\u001b[0m 4ms/step - loss: 60.1793 - val_loss: 23.1519\n",
            "Epoch 269/500\n",
            "\u001b[1m8/8\u001b[0m \u001b[32m━━━━━━━━━━━━━━━━━━━━\u001b[0m\u001b[37m\u001b[0m \u001b[1m0s\u001b[0m 4ms/step - loss: 60.2611 - val_loss: 22.9319\n",
            "Epoch 270/500\n",
            "\u001b[1m8/8\u001b[0m \u001b[32m━━━━━━━━━━━━━━━━━━━━\u001b[0m\u001b[37m\u001b[0m \u001b[1m0s\u001b[0m 4ms/step - loss: 58.5306 - val_loss: 22.8294\n",
            "Epoch 271/500\n",
            "\u001b[1m8/8\u001b[0m \u001b[32m━━━━━━━━━━━━━━━━━━━━\u001b[0m\u001b[37m\u001b[0m \u001b[1m0s\u001b[0m 4ms/step - loss: 47.7909 - val_loss: 22.9037\n",
            "Epoch 272/500\n",
            "\u001b[1m8/8\u001b[0m \u001b[32m━━━━━━━━━━━━━━━━━━━━\u001b[0m\u001b[37m\u001b[0m \u001b[1m0s\u001b[0m 4ms/step - loss: 59.9096 - val_loss: 22.7957\n",
            "Epoch 273/500\n",
            "\u001b[1m8/8\u001b[0m \u001b[32m━━━━━━━━━━━━━━━━━━━━\u001b[0m\u001b[37m\u001b[0m \u001b[1m0s\u001b[0m 4ms/step - loss: 62.4240 - val_loss: 22.8863\n",
            "Epoch 274/500\n",
            "\u001b[1m8/8\u001b[0m \u001b[32m━━━━━━━━━━━━━━━━━━━━\u001b[0m\u001b[37m\u001b[0m \u001b[1m0s\u001b[0m 4ms/step - loss: 52.7703 - val_loss: 22.8612\n",
            "Epoch 275/500\n",
            "\u001b[1m8/8\u001b[0m \u001b[32m━━━━━━━━━━━━━━━━━━━━\u001b[0m\u001b[37m\u001b[0m \u001b[1m0s\u001b[0m 4ms/step - loss: 58.1663 - val_loss: 22.7273\n",
            "Epoch 276/500\n",
            "\u001b[1m8/8\u001b[0m \u001b[32m━━━━━━━━━━━━━━━━━━━━\u001b[0m\u001b[37m\u001b[0m \u001b[1m0s\u001b[0m 6ms/step - loss: 60.5533 - val_loss: 22.8103\n",
            "Epoch 277/500\n",
            "\u001b[1m8/8\u001b[0m \u001b[32m━━━━━━━━━━━━━━━━━━━━\u001b[0m\u001b[37m\u001b[0m \u001b[1m0s\u001b[0m 5ms/step - loss: 62.6717 - val_loss: 22.7748\n",
            "Epoch 278/500\n",
            "\u001b[1m8/8\u001b[0m \u001b[32m━━━━━━━━━━━━━━━━━━━━\u001b[0m\u001b[37m\u001b[0m \u001b[1m0s\u001b[0m 4ms/step - loss: 72.3459 - val_loss: 22.7622\n",
            "Epoch 279/500\n",
            "\u001b[1m8/8\u001b[0m \u001b[32m━━━━━━━━━━━━━━━━━━━━\u001b[0m\u001b[37m\u001b[0m \u001b[1m0s\u001b[0m 6ms/step - loss: 67.5082 - val_loss: 22.8076\n",
            "Epoch 280/500\n",
            "\u001b[1m8/8\u001b[0m \u001b[32m━━━━━━━━━━━━━━━━━━━━\u001b[0m\u001b[37m\u001b[0m \u001b[1m0s\u001b[0m 5ms/step - loss: 57.2519 - val_loss: 22.8062\n",
            "Epoch 281/500\n",
            "\u001b[1m8/8\u001b[0m \u001b[32m━━━━━━━━━━━━━━━━━━━━\u001b[0m\u001b[37m\u001b[0m \u001b[1m0s\u001b[0m 5ms/step - loss: 72.0623 - val_loss: 22.6984\n",
            "Epoch 282/500\n",
            "\u001b[1m8/8\u001b[0m \u001b[32m━━━━━━━━━━━━━━━━━━━━\u001b[0m\u001b[37m\u001b[0m \u001b[1m0s\u001b[0m 5ms/step - loss: 51.4124 - val_loss: 22.6244\n",
            "Epoch 283/500\n",
            "\u001b[1m8/8\u001b[0m \u001b[32m━━━━━━━━━━━━━━━━━━━━\u001b[0m\u001b[37m\u001b[0m \u001b[1m0s\u001b[0m 4ms/step - loss: 60.0359 - val_loss: 22.5447\n",
            "Epoch 284/500\n",
            "\u001b[1m8/8\u001b[0m \u001b[32m━━━━━━━━━━━━━━━━━━━━\u001b[0m\u001b[37m\u001b[0m \u001b[1m0s\u001b[0m 4ms/step - loss: 66.5679 - val_loss: 22.5054\n",
            "Epoch 285/500\n",
            "\u001b[1m8/8\u001b[0m \u001b[32m━━━━━━━━━━━━━━━━━━━━\u001b[0m\u001b[37m\u001b[0m \u001b[1m0s\u001b[0m 4ms/step - loss: 72.1494 - val_loss: 22.4922\n",
            "Epoch 286/500\n",
            "\u001b[1m8/8\u001b[0m \u001b[32m━━━━━━━━━━━━━━━━━━━━\u001b[0m\u001b[37m\u001b[0m \u001b[1m0s\u001b[0m 4ms/step - loss: 63.2839 - val_loss: 22.6058\n",
            "Epoch 287/500\n",
            "\u001b[1m8/8\u001b[0m \u001b[32m━━━━━━━━━━━━━━━━━━━━\u001b[0m\u001b[37m\u001b[0m \u001b[1m0s\u001b[0m 4ms/step - loss: 65.6414 - val_loss: 22.5835\n",
            "Epoch 288/500\n",
            "\u001b[1m8/8\u001b[0m \u001b[32m━━━━━━━━━━━━━━━━━━━━\u001b[0m\u001b[37m\u001b[0m \u001b[1m0s\u001b[0m 4ms/step - loss: 57.0692 - val_loss: 22.6829\n",
            "Epoch 289/500\n",
            "\u001b[1m8/8\u001b[0m \u001b[32m━━━━━━━━━━━━━━━━━━━━\u001b[0m\u001b[37m\u001b[0m \u001b[1m0s\u001b[0m 4ms/step - loss: 67.2895 - val_loss: 22.7767\n",
            "Epoch 290/500\n",
            "\u001b[1m8/8\u001b[0m \u001b[32m━━━━━━━━━━━━━━━━━━━━\u001b[0m\u001b[37m\u001b[0m \u001b[1m0s\u001b[0m 6ms/step - loss: 52.0605 - val_loss: 22.9115\n",
            "Epoch 291/500\n",
            "\u001b[1m8/8\u001b[0m \u001b[32m━━━━━━━━━━━━━━━━━━━━\u001b[0m\u001b[37m\u001b[0m \u001b[1m0s\u001b[0m 6ms/step - loss: 56.0098 - val_loss: 22.7879\n",
            "Epoch 292/500\n",
            "\u001b[1m8/8\u001b[0m \u001b[32m━━━━━━━━━━━━━━━━━━━━\u001b[0m\u001b[37m\u001b[0m \u001b[1m0s\u001b[0m 6ms/step - loss: 58.5482 - val_loss: 22.7182\n",
            "Epoch 293/500\n",
            "\u001b[1m8/8\u001b[0m \u001b[32m━━━━━━━━━━━━━━━━━━━━\u001b[0m\u001b[37m\u001b[0m \u001b[1m0s\u001b[0m 5ms/step - loss: 63.3430 - val_loss: 22.6189\n",
            "Epoch 294/500\n",
            "\u001b[1m8/8\u001b[0m \u001b[32m━━━━━━━━━━━━━━━━━━━━\u001b[0m\u001b[37m\u001b[0m \u001b[1m0s\u001b[0m 5ms/step - loss: 54.5574 - val_loss: 22.6992\n",
            "Epoch 295/500\n",
            "\u001b[1m8/8\u001b[0m \u001b[32m━━━━━━━━━━━━━━━━━━━━\u001b[0m\u001b[37m\u001b[0m \u001b[1m0s\u001b[0m 5ms/step - loss: 51.3549 - val_loss: 22.7809\n",
            "Epoch 296/500\n",
            "\u001b[1m8/8\u001b[0m \u001b[32m━━━━━━━━━━━━━━━━━━━━\u001b[0m\u001b[37m\u001b[0m \u001b[1m0s\u001b[0m 5ms/step - loss: 60.3706 - val_loss: 22.8579\n",
            "Epoch 297/500\n",
            "\u001b[1m8/8\u001b[0m \u001b[32m━━━━━━━━━━━━━━━━━━━━\u001b[0m\u001b[37m\u001b[0m \u001b[1m0s\u001b[0m 4ms/step - loss: 59.7830 - val_loss: 22.7871\n",
            "Epoch 298/500\n",
            "\u001b[1m8/8\u001b[0m \u001b[32m━━━━━━━━━━━━━━━━━━━━\u001b[0m\u001b[37m\u001b[0m \u001b[1m0s\u001b[0m 5ms/step - loss: 63.2892 - val_loss: 22.6732\n",
            "Epoch 299/500\n",
            "\u001b[1m8/8\u001b[0m \u001b[32m━━━━━━━━━━━━━━━━━━━━\u001b[0m\u001b[37m\u001b[0m \u001b[1m0s\u001b[0m 4ms/step - loss: 55.2351 - val_loss: 22.6063\n",
            "Epoch 300/500\n",
            "\u001b[1m8/8\u001b[0m \u001b[32m━━━━━━━━━━━━━━━━━━━━\u001b[0m\u001b[37m\u001b[0m \u001b[1m0s\u001b[0m 4ms/step - loss: 57.0664 - val_loss: 22.4843\n",
            "Epoch 301/500\n",
            "\u001b[1m8/8\u001b[0m \u001b[32m━━━━━━━━━━━━━━━━━━━━\u001b[0m\u001b[37m\u001b[0m \u001b[1m0s\u001b[0m 5ms/step - loss: 59.2041 - val_loss: 22.5875\n",
            "Epoch 302/500\n",
            "\u001b[1m8/8\u001b[0m \u001b[32m━━━━━━━━━━━━━━━━━━━━\u001b[0m\u001b[37m\u001b[0m \u001b[1m0s\u001b[0m 4ms/step - loss: 64.9138 - val_loss: 22.7263\n",
            "Epoch 303/500\n",
            "\u001b[1m8/8\u001b[0m \u001b[32m━━━━━━━━━━━━━━━━━━━━\u001b[0m\u001b[37m\u001b[0m \u001b[1m0s\u001b[0m 4ms/step - loss: 57.2824 - val_loss: 22.8787\n",
            "Epoch 304/500\n",
            "\u001b[1m8/8\u001b[0m \u001b[32m━━━━━━━━━━━━━━━━━━━━\u001b[0m\u001b[37m\u001b[0m \u001b[1m0s\u001b[0m 5ms/step - loss: 61.2298 - val_loss: 22.8932\n",
            "Epoch 305/500\n",
            "\u001b[1m8/8\u001b[0m \u001b[32m━━━━━━━━━━━━━━━━━━━━\u001b[0m\u001b[37m\u001b[0m \u001b[1m0s\u001b[0m 4ms/step - loss: 63.7450 - val_loss: 22.8393\n",
            "Epoch 306/500\n",
            "\u001b[1m8/8\u001b[0m \u001b[32m━━━━━━━━━━━━━━━━━━━━\u001b[0m\u001b[37m\u001b[0m \u001b[1m0s\u001b[0m 5ms/step - loss: 79.5065 - val_loss: 22.8344\n",
            "Epoch 307/500\n",
            "\u001b[1m8/8\u001b[0m \u001b[32m━━━━━━━━━━━━━━━━━━━━\u001b[0m\u001b[37m\u001b[0m \u001b[1m0s\u001b[0m 5ms/step - loss: 69.7778 - val_loss: 22.6017\n",
            "Epoch 308/500\n",
            "\u001b[1m8/8\u001b[0m \u001b[32m━━━━━━━━━━━━━━━━━━━━\u001b[0m\u001b[37m\u001b[0m \u001b[1m0s\u001b[0m 5ms/step - loss: 74.3497 - val_loss: 22.4152\n",
            "Epoch 309/500\n",
            "\u001b[1m8/8\u001b[0m \u001b[32m━━━━━━━━━━━━━━━━━━━━\u001b[0m\u001b[37m\u001b[0m \u001b[1m0s\u001b[0m 4ms/step - loss: 63.0432 - val_loss: 22.2777\n",
            "Epoch 310/500\n",
            "\u001b[1m8/8\u001b[0m \u001b[32m━━━━━━━━━━━━━━━━━━━━\u001b[0m\u001b[37m\u001b[0m \u001b[1m0s\u001b[0m 5ms/step - loss: 60.2646 - val_loss: 22.3744\n",
            "Epoch 311/500\n",
            "\u001b[1m8/8\u001b[0m \u001b[32m━━━━━━━━━━━━━━━━━━━━\u001b[0m\u001b[37m\u001b[0m \u001b[1m0s\u001b[0m 4ms/step - loss: 51.8042 - val_loss: 22.5320\n",
            "Epoch 312/500\n",
            "\u001b[1m8/8\u001b[0m \u001b[32m━━━━━━━━━━━━━━━━━━━━\u001b[0m\u001b[37m\u001b[0m \u001b[1m0s\u001b[0m 4ms/step - loss: 51.7940 - val_loss: 22.8082\n",
            "Epoch 313/500\n",
            "\u001b[1m8/8\u001b[0m \u001b[32m━━━━━━━━━━━━━━━━━━━━\u001b[0m\u001b[37m\u001b[0m \u001b[1m0s\u001b[0m 4ms/step - loss: 57.8329 - val_loss: 23.3356\n",
            "Epoch 314/500\n",
            "\u001b[1m8/8\u001b[0m \u001b[32m━━━━━━━━━━━━━━━━━━━━\u001b[0m\u001b[37m\u001b[0m \u001b[1m0s\u001b[0m 4ms/step - loss: 52.3440 - val_loss: 23.5027\n",
            "Epoch 315/500\n",
            "\u001b[1m8/8\u001b[0m \u001b[32m━━━━━━━━━━━━━━━━━━━━\u001b[0m\u001b[37m\u001b[0m \u001b[1m0s\u001b[0m 4ms/step - loss: 70.5069 - val_loss: 23.7147\n",
            "Epoch 316/500\n",
            "\u001b[1m8/8\u001b[0m \u001b[32m━━━━━━━━━━━━━━━━━━━━\u001b[0m\u001b[37m\u001b[0m \u001b[1m0s\u001b[0m 4ms/step - loss: 66.3509 - val_loss: 23.5788\n",
            "Epoch 317/500\n",
            "\u001b[1m8/8\u001b[0m \u001b[32m━━━━━━━━━━━━━━━━━━━━\u001b[0m\u001b[37m\u001b[0m \u001b[1m0s\u001b[0m 4ms/step - loss: 58.2865 - val_loss: 23.3975\n",
            "Epoch 318/500\n",
            "\u001b[1m8/8\u001b[0m \u001b[32m━━━━━━━━━━━━━━━━━━━━\u001b[0m\u001b[37m\u001b[0m \u001b[1m0s\u001b[0m 4ms/step - loss: 58.5769 - val_loss: 23.3723\n",
            "Epoch 319/500\n",
            "\u001b[1m8/8\u001b[0m \u001b[32m━━━━━━━━━━━━━━━━━━━━\u001b[0m\u001b[37m\u001b[0m \u001b[1m0s\u001b[0m 4ms/step - loss: 56.2462 - val_loss: 23.2077\n",
            "Epoch 320/500\n",
            "\u001b[1m8/8\u001b[0m \u001b[32m━━━━━━━━━━━━━━━━━━━━\u001b[0m\u001b[37m\u001b[0m \u001b[1m0s\u001b[0m 5ms/step - loss: 69.1533 - val_loss: 22.9048\n",
            "Epoch 321/500\n",
            "\u001b[1m8/8\u001b[0m \u001b[32m━━━━━━━━━━━━━━━━━━━━\u001b[0m\u001b[37m\u001b[0m \u001b[1m0s\u001b[0m 5ms/step - loss: 71.8306 - val_loss: 22.7160\n",
            "Epoch 322/500\n",
            "\u001b[1m8/8\u001b[0m \u001b[32m━━━━━━━━━━━━━━━━━━━━\u001b[0m\u001b[37m\u001b[0m \u001b[1m0s\u001b[0m 6ms/step - loss: 55.8957 - val_loss: 22.6518\n",
            "Epoch 323/500\n",
            "\u001b[1m8/8\u001b[0m \u001b[32m━━━━━━━━━━━━━━━━━━━━\u001b[0m\u001b[37m\u001b[0m \u001b[1m0s\u001b[0m 6ms/step - loss: 57.1805 - val_loss: 22.4976\n",
            "Epoch 324/500\n",
            "\u001b[1m8/8\u001b[0m \u001b[32m━━━━━━━━━━━━━━━━━━━━\u001b[0m\u001b[37m\u001b[0m \u001b[1m0s\u001b[0m 4ms/step - loss: 62.2426 - val_loss: 22.4702\n",
            "Epoch 325/500\n",
            "\u001b[1m8/8\u001b[0m \u001b[32m━━━━━━━━━━━━━━━━━━━━\u001b[0m\u001b[37m\u001b[0m \u001b[1m0s\u001b[0m 4ms/step - loss: 67.8659 - val_loss: 22.2518\n",
            "Epoch 326/500\n",
            "\u001b[1m8/8\u001b[0m \u001b[32m━━━━━━━━━━━━━━━━━━━━\u001b[0m\u001b[37m\u001b[0m \u001b[1m0s\u001b[0m 9ms/step - loss: 71.3514 - val_loss: 22.3178\n",
            "Epoch 327/500\n",
            "\u001b[1m8/8\u001b[0m \u001b[32m━━━━━━━━━━━━━━━━━━━━\u001b[0m\u001b[37m\u001b[0m \u001b[1m0s\u001b[0m 5ms/step - loss: 50.6702 - val_loss: 22.2027\n",
            "Epoch 328/500\n",
            "\u001b[1m8/8\u001b[0m \u001b[32m━━━━━━━━━━━━━━━━━━━━\u001b[0m\u001b[37m\u001b[0m \u001b[1m0s\u001b[0m 4ms/step - loss: 70.7404 - val_loss: 22.0848\n",
            "Epoch 329/500\n",
            "\u001b[1m8/8\u001b[0m \u001b[32m━━━━━━━━━━━━━━━━━━━━\u001b[0m\u001b[37m\u001b[0m \u001b[1m0s\u001b[0m 5ms/step - loss: 58.4497 - val_loss: 21.9806\n",
            "Epoch 330/500\n",
            "\u001b[1m8/8\u001b[0m \u001b[32m━━━━━━━━━━━━━━━━━━━━\u001b[0m\u001b[37m\u001b[0m \u001b[1m0s\u001b[0m 5ms/step - loss: 68.8262 - val_loss: 22.0005\n",
            "Epoch 331/500\n",
            "\u001b[1m8/8\u001b[0m \u001b[32m━━━━━━━━━━━━━━━━━━━━\u001b[0m\u001b[37m\u001b[0m \u001b[1m0s\u001b[0m 4ms/step - loss: 60.9602 - val_loss: 22.0678\n",
            "Epoch 332/500\n",
            "\u001b[1m8/8\u001b[0m \u001b[32m━━━━━━━━━━━━━━━━━━━━\u001b[0m\u001b[37m\u001b[0m \u001b[1m0s\u001b[0m 5ms/step - loss: 69.9522 - val_loss: 21.9859\n",
            "Epoch 333/500\n",
            "\u001b[1m8/8\u001b[0m \u001b[32m━━━━━━━━━━━━━━━━━━━━\u001b[0m\u001b[37m\u001b[0m \u001b[1m0s\u001b[0m 5ms/step - loss: 51.0110 - val_loss: 22.1043\n",
            "Epoch 334/500\n",
            "\u001b[1m8/8\u001b[0m \u001b[32m━━━━━━━━━━━━━━━━━━━━\u001b[0m\u001b[37m\u001b[0m \u001b[1m0s\u001b[0m 4ms/step - loss: 55.8177 - val_loss: 22.2263\n",
            "Epoch 335/500\n",
            "\u001b[1m8/8\u001b[0m \u001b[32m━━━━━━━━━━━━━━━━━━━━\u001b[0m\u001b[37m\u001b[0m \u001b[1m0s\u001b[0m 4ms/step - loss: 55.8503 - val_loss: 22.4323\n",
            "Epoch 336/500\n",
            "\u001b[1m8/8\u001b[0m \u001b[32m━━━━━━━━━━━━━━━━━━━━\u001b[0m\u001b[37m\u001b[0m \u001b[1m0s\u001b[0m 6ms/step - loss: 57.1720 - val_loss: 22.4057\n",
            "Epoch 337/500\n",
            "\u001b[1m8/8\u001b[0m \u001b[32m━━━━━━━━━━━━━━━━━━━━\u001b[0m\u001b[37m\u001b[0m \u001b[1m0s\u001b[0m 8ms/step - loss: 51.2456 - val_loss: 22.1678\n",
            "Epoch 338/500\n",
            "\u001b[1m8/8\u001b[0m \u001b[32m━━━━━━━━━━━━━━━━━━━━\u001b[0m\u001b[37m\u001b[0m \u001b[1m0s\u001b[0m 5ms/step - loss: 75.4171 - val_loss: 22.0082\n",
            "Epoch 339/500\n",
            "\u001b[1m8/8\u001b[0m \u001b[32m━━━━━━━━━━━━━━━━━━━━\u001b[0m\u001b[37m\u001b[0m \u001b[1m0s\u001b[0m 4ms/step - loss: 59.5285 - val_loss: 22.0616\n",
            "Epoch 340/500\n",
            "\u001b[1m8/8\u001b[0m \u001b[32m━━━━━━━━━━━━━━━━━━━━\u001b[0m\u001b[37m\u001b[0m \u001b[1m0s\u001b[0m 4ms/step - loss: 65.1069 - val_loss: 22.0450\n",
            "Epoch 341/500\n",
            "\u001b[1m8/8\u001b[0m \u001b[32m━━━━━━━━━━━━━━━━━━━━\u001b[0m\u001b[37m\u001b[0m \u001b[1m0s\u001b[0m 4ms/step - loss: 56.5541 - val_loss: 21.9996\n",
            "Epoch 342/500\n",
            "\u001b[1m8/8\u001b[0m \u001b[32m━━━━━━━━━━━━━━━━━━━━\u001b[0m\u001b[37m\u001b[0m \u001b[1m0s\u001b[0m 4ms/step - loss: 51.3233 - val_loss: 22.0606\n",
            "Epoch 343/500\n",
            "\u001b[1m8/8\u001b[0m \u001b[32m━━━━━━━━━━━━━━━━━━━━\u001b[0m\u001b[37m\u001b[0m \u001b[1m0s\u001b[0m 4ms/step - loss: 62.3064 - val_loss: 21.8830\n",
            "Epoch 344/500\n",
            "\u001b[1m8/8\u001b[0m \u001b[32m━━━━━━━━━━━━━━━━━━━━\u001b[0m\u001b[37m\u001b[0m \u001b[1m0s\u001b[0m 5ms/step - loss: 56.5559 - val_loss: 21.8050\n",
            "Epoch 345/500\n",
            "\u001b[1m8/8\u001b[0m \u001b[32m━━━━━━━━━━━━━━━━━━━━\u001b[0m\u001b[37m\u001b[0m \u001b[1m0s\u001b[0m 5ms/step - loss: 51.8262 - val_loss: 21.8170\n",
            "Epoch 346/500\n",
            "\u001b[1m8/8\u001b[0m \u001b[32m━━━━━━━━━━━━━━━━━━━━\u001b[0m\u001b[37m\u001b[0m \u001b[1m0s\u001b[0m 5ms/step - loss: 57.4995 - val_loss: 21.7701\n",
            "Epoch 347/500\n",
            "\u001b[1m8/8\u001b[0m \u001b[32m━━━━━━━━━━━━━━━━━━━━\u001b[0m\u001b[37m\u001b[0m \u001b[1m0s\u001b[0m 9ms/step - loss: 70.5129 - val_loss: 21.9753\n",
            "Epoch 348/500\n",
            "\u001b[1m8/8\u001b[0m \u001b[32m━━━━━━━━━━━━━━━━━━━━\u001b[0m\u001b[37m\u001b[0m \u001b[1m0s\u001b[0m 7ms/step - loss: 53.3774 - val_loss: 21.8814\n",
            "Epoch 349/500\n",
            "\u001b[1m8/8\u001b[0m \u001b[32m━━━━━━━━━━━━━━━━━━━━\u001b[0m\u001b[37m\u001b[0m \u001b[1m0s\u001b[0m 7ms/step - loss: 41.7305 - val_loss: 21.7743\n",
            "Epoch 350/500\n",
            "\u001b[1m8/8\u001b[0m \u001b[32m━━━━━━━━━━━━━━━━━━━━\u001b[0m\u001b[37m\u001b[0m \u001b[1m0s\u001b[0m 11ms/step - loss: 66.2855 - val_loss: 21.7314\n",
            "Epoch 351/500\n",
            "\u001b[1m8/8\u001b[0m \u001b[32m━━━━━━━━━━━━━━━━━━━━\u001b[0m\u001b[37m\u001b[0m \u001b[1m0s\u001b[0m 9ms/step - loss: 53.3178 - val_loss: 21.8408\n",
            "Epoch 352/500\n",
            "\u001b[1m8/8\u001b[0m \u001b[32m━━━━━━━━━━━━━━━━━━━━\u001b[0m\u001b[37m\u001b[0m \u001b[1m0s\u001b[0m 8ms/step - loss: 57.3604 - val_loss: 21.7462\n",
            "Epoch 353/500\n",
            "\u001b[1m8/8\u001b[0m \u001b[32m━━━━━━━━━━━━━━━━━━━━\u001b[0m\u001b[37m\u001b[0m \u001b[1m0s\u001b[0m 8ms/step - loss: 55.8711 - val_loss: 21.8352\n",
            "Epoch 354/500\n",
            "\u001b[1m8/8\u001b[0m \u001b[32m━━━━━━━━━━━━━━━━━━━━\u001b[0m\u001b[37m\u001b[0m \u001b[1m0s\u001b[0m 9ms/step - loss: 57.2873 - val_loss: 22.0459\n",
            "Epoch 355/500\n",
            "\u001b[1m8/8\u001b[0m \u001b[32m━━━━━━━━━━━━━━━━━━━━\u001b[0m\u001b[37m\u001b[0m \u001b[1m0s\u001b[0m 6ms/step - loss: 51.3926 - val_loss: 22.5125\n",
            "Epoch 356/500\n",
            "\u001b[1m8/8\u001b[0m \u001b[32m━━━━━━━━━━━━━━━━━━━━\u001b[0m\u001b[37m\u001b[0m \u001b[1m0s\u001b[0m 6ms/step - loss: 52.5695 - val_loss: 22.7680\n",
            "Epoch 357/500\n",
            "\u001b[1m8/8\u001b[0m \u001b[32m━━━━━━━━━━━━━━━━━━━━\u001b[0m\u001b[37m\u001b[0m \u001b[1m0s\u001b[0m 6ms/step - loss: 62.3536 - val_loss: 22.7756\n",
            "Epoch 358/500\n",
            "\u001b[1m8/8\u001b[0m \u001b[32m━━━━━━━━━━━━━━━━━━━━\u001b[0m\u001b[37m\u001b[0m \u001b[1m0s\u001b[0m 9ms/step - loss: 55.6983 - val_loss: 22.8391\n",
            "Epoch 359/500\n",
            "\u001b[1m8/8\u001b[0m \u001b[32m━━━━━━━━━━━━━━━━━━━━\u001b[0m\u001b[37m\u001b[0m \u001b[1m0s\u001b[0m 8ms/step - loss: 60.3659 - val_loss: 22.7685\n",
            "Epoch 360/500\n",
            "\u001b[1m8/8\u001b[0m \u001b[32m━━━━━━━━━━━━━━━━━━━━\u001b[0m\u001b[37m\u001b[0m \u001b[1m0s\u001b[0m 10ms/step - loss: 63.4212 - val_loss: 22.8761\n",
            "Epoch 361/500\n",
            "\u001b[1m8/8\u001b[0m \u001b[32m━━━━━━━━━━━━━━━━━━━━\u001b[0m\u001b[37m\u001b[0m \u001b[1m0s\u001b[0m 7ms/step - loss: 57.6788 - val_loss: 22.9393\n",
            "Epoch 362/500\n",
            "\u001b[1m8/8\u001b[0m \u001b[32m━━━━━━━━━━━━━━━━━━━━\u001b[0m\u001b[37m\u001b[0m \u001b[1m0s\u001b[0m 7ms/step - loss: 53.2199 - val_loss: 22.8030\n",
            "Epoch 363/500\n",
            "\u001b[1m8/8\u001b[0m \u001b[32m━━━━━━━━━━━━━━━━━━━━\u001b[0m\u001b[37m\u001b[0m \u001b[1m0s\u001b[0m 6ms/step - loss: 60.6088 - val_loss: 22.6647\n",
            "Epoch 364/500\n",
            "\u001b[1m8/8\u001b[0m \u001b[32m━━━━━━━━━━━━━━━━━━━━\u001b[0m\u001b[37m\u001b[0m \u001b[1m0s\u001b[0m 6ms/step - loss: 56.4318 - val_loss: 22.3573\n",
            "Epoch 365/500\n",
            "\u001b[1m8/8\u001b[0m \u001b[32m━━━━━━━━━━━━━━━━━━━━\u001b[0m\u001b[37m\u001b[0m \u001b[1m0s\u001b[0m 6ms/step - loss: 61.8505 - val_loss: 22.2931\n",
            "Epoch 366/500\n",
            "\u001b[1m8/8\u001b[0m \u001b[32m━━━━━━━━━━━━━━━━━━━━\u001b[0m\u001b[37m\u001b[0m \u001b[1m0s\u001b[0m 13ms/step - loss: 61.1454 - val_loss: 22.3111\n",
            "Epoch 367/500\n",
            "\u001b[1m8/8\u001b[0m \u001b[32m━━━━━━━━━━━━━━━━━━━━\u001b[0m\u001b[37m\u001b[0m \u001b[1m0s\u001b[0m 9ms/step - loss: 56.3671 - val_loss: 22.4193\n",
            "Epoch 368/500\n",
            "\u001b[1m8/8\u001b[0m \u001b[32m━━━━━━━━━━━━━━━━━━━━\u001b[0m\u001b[37m\u001b[0m \u001b[1m0s\u001b[0m 5ms/step - loss: 61.0333 - val_loss: 22.6109\n",
            "Epoch 369/500\n",
            "\u001b[1m8/8\u001b[0m \u001b[32m━━━━━━━━━━━━━━━━━━━━\u001b[0m\u001b[37m\u001b[0m \u001b[1m0s\u001b[0m 4ms/step - loss: 53.7255 - val_loss: 22.5324\n",
            "Epoch 370/500\n",
            "\u001b[1m8/8\u001b[0m \u001b[32m━━━━━━━━━━━━━━━━━━━━\u001b[0m\u001b[37m\u001b[0m \u001b[1m0s\u001b[0m 4ms/step - loss: 58.7144 - val_loss: 22.6340\n",
            "Epoch 371/500\n",
            "\u001b[1m8/8\u001b[0m \u001b[32m━━━━━━━━━━━━━━━━━━━━\u001b[0m\u001b[37m\u001b[0m \u001b[1m0s\u001b[0m 4ms/step - loss: 65.6185 - val_loss: 22.4721\n",
            "Epoch 372/500\n",
            "\u001b[1m8/8\u001b[0m \u001b[32m━━━━━━━━━━━━━━━━━━━━\u001b[0m\u001b[37m\u001b[0m \u001b[1m0s\u001b[0m 5ms/step - loss: 54.1945 - val_loss: 22.4978\n",
            "Epoch 373/500\n",
            "\u001b[1m8/8\u001b[0m \u001b[32m━━━━━━━━━━━━━━━━━━━━\u001b[0m\u001b[37m\u001b[0m \u001b[1m0s\u001b[0m 5ms/step - loss: 48.6340 - val_loss: 22.5772\n",
            "Epoch 374/500\n",
            "\u001b[1m8/8\u001b[0m \u001b[32m━━━━━━━━━━━━━━━━━━━━\u001b[0m\u001b[37m\u001b[0m \u001b[1m0s\u001b[0m 5ms/step - loss: 57.2030 - val_loss: 22.7471\n",
            "Epoch 375/500\n",
            "\u001b[1m8/8\u001b[0m \u001b[32m━━━━━━━━━━━━━━━━━━━━\u001b[0m\u001b[37m\u001b[0m \u001b[1m0s\u001b[0m 5ms/step - loss: 49.4064 - val_loss: 22.8226\n",
            "Epoch 376/500\n",
            "\u001b[1m8/8\u001b[0m \u001b[32m━━━━━━━━━━━━━━━━━━━━\u001b[0m\u001b[37m\u001b[0m \u001b[1m0s\u001b[0m 5ms/step - loss: 72.4730 - val_loss: 22.6692\n",
            "Epoch 377/500\n",
            "\u001b[1m8/8\u001b[0m \u001b[32m━━━━━━━━━━━━━━━━━━━━\u001b[0m\u001b[37m\u001b[0m \u001b[1m0s\u001b[0m 8ms/step - loss: 49.6063 - val_loss: 22.3560\n",
            "Epoch 378/500\n",
            "\u001b[1m8/8\u001b[0m \u001b[32m━━━━━━━━━━━━━━━━━━━━\u001b[0m\u001b[37m\u001b[0m \u001b[1m0s\u001b[0m 5ms/step - loss: 60.1260 - val_loss: 22.2998\n",
            "Epoch 379/500\n",
            "\u001b[1m8/8\u001b[0m \u001b[32m━━━━━━━━━━━━━━━━━━━━\u001b[0m\u001b[37m\u001b[0m \u001b[1m0s\u001b[0m 4ms/step - loss: 56.0132 - val_loss: 22.0994\n",
            "Epoch 380/500\n",
            "\u001b[1m8/8\u001b[0m \u001b[32m━━━━━━━━━━━━━━━━━━━━\u001b[0m\u001b[37m\u001b[0m \u001b[1m0s\u001b[0m 4ms/step - loss: 62.4916 - val_loss: 22.0893\n",
            "Epoch 381/500\n",
            "\u001b[1m8/8\u001b[0m \u001b[32m━━━━━━━━━━━━━━━━━━━━\u001b[0m\u001b[37m\u001b[0m \u001b[1m0s\u001b[0m 4ms/step - loss: 61.1642 - val_loss: 22.2450\n",
            "Epoch 382/500\n",
            "\u001b[1m8/8\u001b[0m \u001b[32m━━━━━━━━━━━━━━━━━━━━\u001b[0m\u001b[37m\u001b[0m \u001b[1m0s\u001b[0m 4ms/step - loss: 61.3127 - val_loss: 22.1972\n",
            "Epoch 383/500\n",
            "\u001b[1m8/8\u001b[0m \u001b[32m━━━━━━━━━━━━━━━━━━━━\u001b[0m\u001b[37m\u001b[0m \u001b[1m0s\u001b[0m 5ms/step - loss: 57.0069 - val_loss: 22.2095\n",
            "Epoch 384/500\n",
            "\u001b[1m8/8\u001b[0m \u001b[32m━━━━━━━━━━━━━━━━━━━━\u001b[0m\u001b[37m\u001b[0m \u001b[1m0s\u001b[0m 5ms/step - loss: 51.9109 - val_loss: 21.9307\n",
            "Epoch 385/500\n",
            "\u001b[1m8/8\u001b[0m \u001b[32m━━━━━━━━━━━━━━━━━━━━\u001b[0m\u001b[37m\u001b[0m \u001b[1m0s\u001b[0m 4ms/step - loss: 54.5107 - val_loss: 21.9597\n",
            "Epoch 386/500\n",
            "\u001b[1m8/8\u001b[0m \u001b[32m━━━━━━━━━━━━━━━━━━━━\u001b[0m\u001b[37m\u001b[0m \u001b[1m0s\u001b[0m 4ms/step - loss: 63.3397 - val_loss: 21.9264\n",
            "Epoch 387/500\n",
            "\u001b[1m8/8\u001b[0m \u001b[32m━━━━━━━━━━━━━━━━━━━━\u001b[0m\u001b[37m\u001b[0m \u001b[1m0s\u001b[0m 4ms/step - loss: 61.2259 - val_loss: 22.0087\n",
            "Epoch 388/500\n",
            "\u001b[1m8/8\u001b[0m \u001b[32m━━━━━━━━━━━━━━━━━━━━\u001b[0m\u001b[37m\u001b[0m \u001b[1m0s\u001b[0m 5ms/step - loss: 55.6602 - val_loss: 21.9737\n",
            "Epoch 389/500\n",
            "\u001b[1m8/8\u001b[0m \u001b[32m━━━━━━━━━━━━━━━━━━━━\u001b[0m\u001b[37m\u001b[0m \u001b[1m0s\u001b[0m 5ms/step - loss: 60.4136 - val_loss: 21.8040\n",
            "Epoch 390/500\n",
            "\u001b[1m8/8\u001b[0m \u001b[32m━━━━━━━━━━━━━━━━━━━━\u001b[0m\u001b[37m\u001b[0m \u001b[1m0s\u001b[0m 4ms/step - loss: 52.7383 - val_loss: 22.0930\n",
            "Epoch 391/500\n",
            "\u001b[1m8/8\u001b[0m \u001b[32m━━━━━━━━━━━━━━━━━━━━\u001b[0m\u001b[37m\u001b[0m \u001b[1m0s\u001b[0m 4ms/step - loss: 63.4644 - val_loss: 22.2657\n",
            "Epoch 392/500\n",
            "\u001b[1m8/8\u001b[0m \u001b[32m━━━━━━━━━━━━━━━━━━━━\u001b[0m\u001b[37m\u001b[0m \u001b[1m0s\u001b[0m 6ms/step - loss: 56.7972 - val_loss: 22.1727\n",
            "Epoch 393/500\n",
            "\u001b[1m8/8\u001b[0m \u001b[32m━━━━━━━━━━━━━━━━━━━━\u001b[0m\u001b[37m\u001b[0m \u001b[1m0s\u001b[0m 7ms/step - loss: 60.7488 - val_loss: 22.0983\n",
            "Epoch 394/500\n",
            "\u001b[1m8/8\u001b[0m \u001b[32m━━━━━━━━━━━━━━━━━━━━\u001b[0m\u001b[37m\u001b[0m \u001b[1m0s\u001b[0m 5ms/step - loss: 56.7022 - val_loss: 22.1384\n",
            "Epoch 395/500\n",
            "\u001b[1m8/8\u001b[0m \u001b[32m━━━━━━━━━━━━━━━━━━━━\u001b[0m\u001b[37m\u001b[0m \u001b[1m0s\u001b[0m 5ms/step - loss: 59.6830 - val_loss: 22.1848\n",
            "Epoch 396/500\n",
            "\u001b[1m8/8\u001b[0m \u001b[32m━━━━━━━━━━━━━━━━━━━━\u001b[0m\u001b[37m\u001b[0m \u001b[1m0s\u001b[0m 5ms/step - loss: 57.4577 - val_loss: 22.0927\n",
            "Epoch 397/500\n",
            "\u001b[1m8/8\u001b[0m \u001b[32m━━━━━━━━━━━━━━━━━━━━\u001b[0m\u001b[37m\u001b[0m \u001b[1m0s\u001b[0m 5ms/step - loss: 62.1768 - val_loss: 22.1649\n",
            "Epoch 398/500\n",
            "\u001b[1m8/8\u001b[0m \u001b[32m━━━━━━━━━━━━━━━━━━━━\u001b[0m\u001b[37m\u001b[0m \u001b[1m0s\u001b[0m 5ms/step - loss: 64.9693 - val_loss: 22.0570\n",
            "Epoch 399/500\n",
            "\u001b[1m8/8\u001b[0m \u001b[32m━━━━━━━━━━━━━━━━━━━━\u001b[0m\u001b[37m\u001b[0m \u001b[1m0s\u001b[0m 7ms/step - loss: 65.0667 - val_loss: 22.1101\n",
            "Epoch 400/500\n",
            "\u001b[1m8/8\u001b[0m \u001b[32m━━━━━━━━━━━━━━━━━━━━\u001b[0m\u001b[37m\u001b[0m \u001b[1m0s\u001b[0m 5ms/step - loss: 58.7379 - val_loss: 22.0748\n",
            "Epoch 401/500\n",
            "\u001b[1m8/8\u001b[0m \u001b[32m━━━━━━━━━━━━━━━━━━━━\u001b[0m\u001b[37m\u001b[0m \u001b[1m0s\u001b[0m 5ms/step - loss: 58.9913 - val_loss: 22.0077\n",
            "Epoch 402/500\n",
            "\u001b[1m8/8\u001b[0m \u001b[32m━━━━━━━━━━━━━━━━━━━━\u001b[0m\u001b[37m\u001b[0m \u001b[1m0s\u001b[0m 5ms/step - loss: 61.3009 - val_loss: 21.8621\n",
            "Epoch 403/500\n",
            "\u001b[1m8/8\u001b[0m \u001b[32m━━━━━━━━━━━━━━━━━━━━\u001b[0m\u001b[37m\u001b[0m \u001b[1m0s\u001b[0m 5ms/step - loss: 61.0667 - val_loss: 21.8584\n",
            "Epoch 404/500\n",
            "\u001b[1m8/8\u001b[0m \u001b[32m━━━━━━━━━━━━━━━━━━━━\u001b[0m\u001b[37m\u001b[0m \u001b[1m0s\u001b[0m 5ms/step - loss: 64.9946 - val_loss: 22.0267\n",
            "Epoch 405/500\n",
            "\u001b[1m8/8\u001b[0m \u001b[32m━━━━━━━━━━━━━━━━━━━━\u001b[0m\u001b[37m\u001b[0m \u001b[1m0s\u001b[0m 5ms/step - loss: 65.1150 - val_loss: 22.0390\n",
            "Epoch 406/500\n",
            "\u001b[1m8/8\u001b[0m \u001b[32m━━━━━━━━━━━━━━━━━━━━\u001b[0m\u001b[37m\u001b[0m \u001b[1m0s\u001b[0m 6ms/step - loss: 50.3403 - val_loss: 21.7322\n",
            "Epoch 407/500\n",
            "\u001b[1m8/8\u001b[0m \u001b[32m━━━━━━━━━━━━━━━━━━━━\u001b[0m\u001b[37m\u001b[0m \u001b[1m0s\u001b[0m 6ms/step - loss: 56.9337 - val_loss: 21.4947\n",
            "Epoch 408/500\n",
            "\u001b[1m8/8\u001b[0m \u001b[32m━━━━━━━━━━━━━━━━━━━━\u001b[0m\u001b[37m\u001b[0m \u001b[1m0s\u001b[0m 5ms/step - loss: 60.7966 - val_loss: 21.4164\n",
            "Epoch 409/500\n",
            "\u001b[1m8/8\u001b[0m \u001b[32m━━━━━━━━━━━━━━━━━━━━\u001b[0m\u001b[37m\u001b[0m \u001b[1m0s\u001b[0m 5ms/step - loss: 54.7579 - val_loss: 21.4396\n",
            "Epoch 410/500\n",
            "\u001b[1m8/8\u001b[0m \u001b[32m━━━━━━━━━━━━━━━━━━━━\u001b[0m\u001b[37m\u001b[0m \u001b[1m0s\u001b[0m 4ms/step - loss: 61.1706 - val_loss: 21.4984\n",
            "Epoch 411/500\n",
            "\u001b[1m8/8\u001b[0m \u001b[32m━━━━━━━━━━━━━━━━━━━━\u001b[0m\u001b[37m\u001b[0m \u001b[1m0s\u001b[0m 4ms/step - loss: 52.0437 - val_loss: 21.3654\n",
            "Epoch 412/500\n",
            "\u001b[1m8/8\u001b[0m \u001b[32m━━━━━━━━━━━━━━━━━━━━\u001b[0m\u001b[37m\u001b[0m \u001b[1m0s\u001b[0m 5ms/step - loss: 54.9163 - val_loss: 21.4809\n",
            "Epoch 413/500\n",
            "\u001b[1m8/8\u001b[0m \u001b[32m━━━━━━━━━━━━━━━━━━━━\u001b[0m\u001b[37m\u001b[0m \u001b[1m0s\u001b[0m 5ms/step - loss: 54.5427 - val_loss: 21.4853\n",
            "Epoch 414/500\n",
            "\u001b[1m8/8\u001b[0m \u001b[32m━━━━━━━━━━━━━━━━━━━━\u001b[0m\u001b[37m\u001b[0m \u001b[1m0s\u001b[0m 4ms/step - loss: 58.2434 - val_loss: 21.6593\n",
            "Epoch 415/500\n",
            "\u001b[1m8/8\u001b[0m \u001b[32m━━━━━━━━━━━━━━━━━━━━\u001b[0m\u001b[37m\u001b[0m \u001b[1m0s\u001b[0m 5ms/step - loss: 57.5769 - val_loss: 21.7580\n",
            "Epoch 416/500\n",
            "\u001b[1m8/8\u001b[0m \u001b[32m━━━━━━━━━━━━━━━━━━━━\u001b[0m\u001b[37m\u001b[0m \u001b[1m0s\u001b[0m 6ms/step - loss: 54.0787 - val_loss: 21.7999\n",
            "Epoch 417/500\n",
            "\u001b[1m8/8\u001b[0m \u001b[32m━━━━━━━━━━━━━━━━━━━━\u001b[0m\u001b[37m\u001b[0m \u001b[1m0s\u001b[0m 6ms/step - loss: 48.4917 - val_loss: 21.8548\n",
            "Epoch 418/500\n",
            "\u001b[1m8/8\u001b[0m \u001b[32m━━━━━━━━━━━━━━━━━━━━\u001b[0m\u001b[37m\u001b[0m \u001b[1m0s\u001b[0m 5ms/step - loss: 54.1357 - val_loss: 21.6114\n",
            "Epoch 419/500\n",
            "\u001b[1m8/8\u001b[0m \u001b[32m━━━━━━━━━━━━━━━━━━━━\u001b[0m\u001b[37m\u001b[0m \u001b[1m0s\u001b[0m 4ms/step - loss: 61.6675 - val_loss: 21.5279\n",
            "Epoch 420/500\n",
            "\u001b[1m8/8\u001b[0m \u001b[32m━━━━━━━━━━━━━━━━━━━━\u001b[0m\u001b[37m\u001b[0m \u001b[1m0s\u001b[0m 5ms/step - loss: 51.3859 - val_loss: 21.3330\n",
            "Epoch 421/500\n",
            "\u001b[1m8/8\u001b[0m \u001b[32m━━━━━━━━━━━━━━━━━━━━\u001b[0m\u001b[37m\u001b[0m \u001b[1m0s\u001b[0m 5ms/step - loss: 60.2524 - val_loss: 21.0788\n",
            "Epoch 422/500\n",
            "\u001b[1m8/8\u001b[0m \u001b[32m━━━━━━━━━━━━━━━━━━━━\u001b[0m\u001b[37m\u001b[0m \u001b[1m0s\u001b[0m 8ms/step - loss: 61.1804 - val_loss: 21.0266\n",
            "Epoch 423/500\n",
            "\u001b[1m8/8\u001b[0m \u001b[32m━━━━━━━━━━━━━━━━━━━━\u001b[0m\u001b[37m\u001b[0m \u001b[1m0s\u001b[0m 5ms/step - loss: 56.2556 - val_loss: 20.9082\n",
            "Epoch 424/500\n",
            "\u001b[1m8/8\u001b[0m \u001b[32m━━━━━━━━━━━━━━━━━━━━\u001b[0m\u001b[37m\u001b[0m \u001b[1m0s\u001b[0m 4ms/step - loss: 57.2201 - val_loss: 20.7403\n",
            "Epoch 425/500\n",
            "\u001b[1m8/8\u001b[0m \u001b[32m━━━━━━━━━━━━━━━━━━━━\u001b[0m\u001b[37m\u001b[0m \u001b[1m0s\u001b[0m 4ms/step - loss: 54.7762 - val_loss: 20.9034\n",
            "Epoch 426/500\n",
            "\u001b[1m8/8\u001b[0m \u001b[32m━━━━━━━━━━━━━━━━━━━━\u001b[0m\u001b[37m\u001b[0m \u001b[1m0s\u001b[0m 5ms/step - loss: 58.6608 - val_loss: 21.0483\n",
            "Epoch 427/500\n",
            "\u001b[1m8/8\u001b[0m \u001b[32m━━━━━━━━━━━━━━━━━━━━\u001b[0m\u001b[37m\u001b[0m \u001b[1m0s\u001b[0m 5ms/step - loss: 59.2267 - val_loss: 20.9810\n",
            "Epoch 428/500\n",
            "\u001b[1m8/8\u001b[0m \u001b[32m━━━━━━━━━━━━━━━━━━━━\u001b[0m\u001b[37m\u001b[0m \u001b[1m0s\u001b[0m 6ms/step - loss: 53.9163 - val_loss: 21.1452\n",
            "Epoch 429/500\n",
            "\u001b[1m8/8\u001b[0m \u001b[32m━━━━━━━━━━━━━━━━━━━━\u001b[0m\u001b[37m\u001b[0m \u001b[1m0s\u001b[0m 5ms/step - loss: 55.5378 - val_loss: 21.3833\n",
            "Epoch 430/500\n",
            "\u001b[1m8/8\u001b[0m \u001b[32m━━━━━━━━━━━━━━━━━━━━\u001b[0m\u001b[37m\u001b[0m \u001b[1m0s\u001b[0m 4ms/step - loss: 54.8334 - val_loss: 21.7245\n",
            "Epoch 431/500\n",
            "\u001b[1m8/8\u001b[0m \u001b[32m━━━━━━━━━━━━━━━━━━━━\u001b[0m\u001b[37m\u001b[0m \u001b[1m0s\u001b[0m 5ms/step - loss: 51.6547 - val_loss: 21.7493\n",
            "Epoch 432/500\n",
            "\u001b[1m8/8\u001b[0m \u001b[32m━━━━━━━━━━━━━━━━━━━━\u001b[0m\u001b[37m\u001b[0m \u001b[1m0s\u001b[0m 5ms/step - loss: 54.2688 - val_loss: 21.5443\n",
            "Epoch 433/500\n",
            "\u001b[1m8/8\u001b[0m \u001b[32m━━━━━━━━━━━━━━━━━━━━\u001b[0m\u001b[37m\u001b[0m \u001b[1m0s\u001b[0m 4ms/step - loss: 51.7457 - val_loss: 21.5561\n",
            "Epoch 434/500\n",
            "\u001b[1m8/8\u001b[0m \u001b[32m━━━━━━━━━━━━━━━━━━━━\u001b[0m\u001b[37m\u001b[0m \u001b[1m0s\u001b[0m 5ms/step - loss: 53.5215 - val_loss: 21.6043\n",
            "Epoch 435/500\n",
            "\u001b[1m8/8\u001b[0m \u001b[32m━━━━━━━━━━━━━━━━━━━━\u001b[0m\u001b[37m\u001b[0m \u001b[1m0s\u001b[0m 5ms/step - loss: 65.4893 - val_loss: 21.4645\n",
            "Epoch 436/500\n",
            "\u001b[1m8/8\u001b[0m \u001b[32m━━━━━━━━━━━━━━━━━━━━\u001b[0m\u001b[37m\u001b[0m \u001b[1m0s\u001b[0m 5ms/step - loss: 49.2268 - val_loss: 21.2236\n",
            "Epoch 437/500\n",
            "\u001b[1m8/8\u001b[0m \u001b[32m━━━━━━━━━━━━━━━━━━━━\u001b[0m\u001b[37m\u001b[0m \u001b[1m0s\u001b[0m 4ms/step - loss: 64.1575 - val_loss: 20.9949\n",
            "Epoch 438/500\n",
            "\u001b[1m8/8\u001b[0m \u001b[32m━━━━━━━━━━━━━━━━━━━━\u001b[0m\u001b[37m\u001b[0m \u001b[1m0s\u001b[0m 5ms/step - loss: 57.4644 - val_loss: 20.9422\n",
            "Epoch 439/500\n",
            "\u001b[1m8/8\u001b[0m \u001b[32m━━━━━━━━━━━━━━━━━━━━\u001b[0m\u001b[37m\u001b[0m \u001b[1m0s\u001b[0m 5ms/step - loss: 52.5421 - val_loss: 21.1152\n",
            "Epoch 440/500\n",
            "\u001b[1m8/8\u001b[0m \u001b[32m━━━━━━━━━━━━━━━━━━━━\u001b[0m\u001b[37m\u001b[0m \u001b[1m0s\u001b[0m 5ms/step - loss: 55.6250 - val_loss: 21.2698\n",
            "Epoch 441/500\n",
            "\u001b[1m8/8\u001b[0m \u001b[32m━━━━━━━━━━━━━━━━━━━━\u001b[0m\u001b[37m\u001b[0m \u001b[1m0s\u001b[0m 5ms/step - loss: 56.0602 - val_loss: 21.3024\n",
            "Epoch 442/500\n",
            "\u001b[1m8/8\u001b[0m \u001b[32m━━━━━━━━━━━━━━━━━━━━\u001b[0m\u001b[37m\u001b[0m \u001b[1m0s\u001b[0m 5ms/step - loss: 52.4635 - val_loss: 20.9932\n",
            "Epoch 443/500\n",
            "\u001b[1m8/8\u001b[0m \u001b[32m━━━━━━━━━━━━━━━━━━━━\u001b[0m\u001b[37m\u001b[0m \u001b[1m0s\u001b[0m 6ms/step - loss: 49.9294 - val_loss: 20.9622\n",
            "Epoch 444/500\n",
            "\u001b[1m8/8\u001b[0m \u001b[32m━━━━━━━━━━━━━━━━━━━━\u001b[0m\u001b[37m\u001b[0m \u001b[1m0s\u001b[0m 5ms/step - loss: 52.9095 - val_loss: 21.4184\n",
            "Epoch 445/500\n",
            "\u001b[1m8/8\u001b[0m \u001b[32m━━━━━━━━━━━━━━━━━━━━\u001b[0m\u001b[37m\u001b[0m \u001b[1m0s\u001b[0m 5ms/step - loss: 66.6084 - val_loss: 21.3834\n",
            "Epoch 446/500\n",
            "\u001b[1m8/8\u001b[0m \u001b[32m━━━━━━━━━━━━━━━━━━━━\u001b[0m\u001b[37m\u001b[0m \u001b[1m0s\u001b[0m 4ms/step - loss: 54.5717 - val_loss: 21.4026\n",
            "Epoch 447/500\n",
            "\u001b[1m8/8\u001b[0m \u001b[32m━━━━━━━━━━━━━━━━━━━━\u001b[0m\u001b[37m\u001b[0m \u001b[1m0s\u001b[0m 4ms/step - loss: 66.0966 - val_loss: 21.3631\n",
            "Epoch 448/500\n",
            "\u001b[1m8/8\u001b[0m \u001b[32m━━━━━━━━━━━━━━━━━━━━\u001b[0m\u001b[37m\u001b[0m \u001b[1m0s\u001b[0m 4ms/step - loss: 62.1424 - val_loss: 21.1231\n",
            "Epoch 449/500\n",
            "\u001b[1m8/8\u001b[0m \u001b[32m━━━━━━━━━━━━━━━━━━━━\u001b[0m\u001b[37m\u001b[0m \u001b[1m0s\u001b[0m 5ms/step - loss: 59.8025 - val_loss: 21.1595\n",
            "Epoch 450/500\n",
            "\u001b[1m8/8\u001b[0m \u001b[32m━━━━━━━━━━━━━━━━━━━━\u001b[0m\u001b[37m\u001b[0m \u001b[1m0s\u001b[0m 5ms/step - loss: 65.7558 - val_loss: 21.0620\n",
            "Epoch 451/500\n",
            "\u001b[1m8/8\u001b[0m \u001b[32m━━━━━━━━━━━━━━━━━━━━\u001b[0m\u001b[37m\u001b[0m \u001b[1m0s\u001b[0m 5ms/step - loss: 45.7346 - val_loss: 20.9741\n",
            "Epoch 452/500\n",
            "\u001b[1m8/8\u001b[0m \u001b[32m━━━━━━━━━━━━━━━━━━━━\u001b[0m\u001b[37m\u001b[0m \u001b[1m0s\u001b[0m 4ms/step - loss: 57.4153 - val_loss: 21.1876\n",
            "Epoch 453/500\n",
            "\u001b[1m8/8\u001b[0m \u001b[32m━━━━━━━━━━━━━━━━━━━━\u001b[0m\u001b[37m\u001b[0m \u001b[1m0s\u001b[0m 4ms/step - loss: 51.0787 - val_loss: 21.1546\n",
            "Epoch 454/500\n",
            "\u001b[1m8/8\u001b[0m \u001b[32m━━━━━━━━━━━━━━━━━━━━\u001b[0m\u001b[37m\u001b[0m \u001b[1m0s\u001b[0m 4ms/step - loss: 50.4411 - val_loss: 21.0111\n",
            "Epoch 455/500\n",
            "\u001b[1m8/8\u001b[0m \u001b[32m━━━━━━━━━━━━━━━━━━━━\u001b[0m\u001b[37m\u001b[0m \u001b[1m0s\u001b[0m 5ms/step - loss: 71.1559 - val_loss: 21.1886\n",
            "Epoch 456/500\n",
            "\u001b[1m8/8\u001b[0m \u001b[32m━━━━━━━━━━━━━━━━━━━━\u001b[0m\u001b[37m\u001b[0m \u001b[1m0s\u001b[0m 4ms/step - loss: 62.2398 - val_loss: 21.0023\n",
            "Epoch 457/500\n",
            "\u001b[1m8/8\u001b[0m \u001b[32m━━━━━━━━━━━━━━━━━━━━\u001b[0m\u001b[37m\u001b[0m \u001b[1m0s\u001b[0m 5ms/step - loss: 59.4785 - val_loss: 21.1042\n",
            "Epoch 458/500\n",
            "\u001b[1m8/8\u001b[0m \u001b[32m━━━━━━━━━━━━━━━━━━━━\u001b[0m\u001b[37m\u001b[0m \u001b[1m0s\u001b[0m 6ms/step - loss: 51.2417 - val_loss: 21.0286\n",
            "Epoch 459/500\n",
            "\u001b[1m8/8\u001b[0m \u001b[32m━━━━━━━━━━━━━━━━━━━━\u001b[0m\u001b[37m\u001b[0m \u001b[1m0s\u001b[0m 6ms/step - loss: 59.9585 - val_loss: 20.8412\n",
            "Epoch 460/500\n",
            "\u001b[1m8/8\u001b[0m \u001b[32m━━━━━━━━━━━━━━━━━━━━\u001b[0m\u001b[37m\u001b[0m \u001b[1m0s\u001b[0m 5ms/step - loss: 48.9377 - val_loss: 20.9367\n",
            "Epoch 461/500\n",
            "\u001b[1m8/8\u001b[0m \u001b[32m━━━━━━━━━━━━━━━━━━━━\u001b[0m\u001b[37m\u001b[0m \u001b[1m0s\u001b[0m 6ms/step - loss: 58.6480 - val_loss: 20.9479\n",
            "Epoch 462/500\n",
            "\u001b[1m8/8\u001b[0m \u001b[32m━━━━━━━━━━━━━━━━━━━━\u001b[0m\u001b[37m\u001b[0m \u001b[1m0s\u001b[0m 5ms/step - loss: 62.9662 - val_loss: 21.1372\n",
            "Epoch 463/500\n",
            "\u001b[1m8/8\u001b[0m \u001b[32m━━━━━━━━━━━━━━━━━━━━\u001b[0m\u001b[37m\u001b[0m \u001b[1m0s\u001b[0m 5ms/step - loss: 53.6921 - val_loss: 21.4502\n",
            "Epoch 464/500\n",
            "\u001b[1m8/8\u001b[0m \u001b[32m━━━━━━━━━━━━━━━━━━━━\u001b[0m\u001b[37m\u001b[0m \u001b[1m0s\u001b[0m 4ms/step - loss: 67.9487 - val_loss: 21.6026\n",
            "Epoch 465/500\n",
            "\u001b[1m8/8\u001b[0m \u001b[32m━━━━━━━━━━━━━━━━━━━━\u001b[0m\u001b[37m\u001b[0m \u001b[1m0s\u001b[0m 4ms/step - loss: 61.1660 - val_loss: 21.6294\n",
            "Epoch 466/500\n",
            "\u001b[1m8/8\u001b[0m \u001b[32m━━━━━━━━━━━━━━━━━━━━\u001b[0m\u001b[37m\u001b[0m \u001b[1m0s\u001b[0m 5ms/step - loss: 62.8531 - val_loss: 21.6315\n",
            "Epoch 467/500\n",
            "\u001b[1m8/8\u001b[0m \u001b[32m━━━━━━━━━━━━━━━━━━━━\u001b[0m\u001b[37m\u001b[0m \u001b[1m0s\u001b[0m 5ms/step - loss: 52.5781 - val_loss: 21.7806\n",
            "Epoch 468/500\n",
            "\u001b[1m8/8\u001b[0m \u001b[32m━━━━━━━━━━━━━━━━━━━━\u001b[0m\u001b[37m\u001b[0m \u001b[1m0s\u001b[0m 5ms/step - loss: 50.6762 - val_loss: 21.4131\n",
            "Epoch 469/500\n",
            "\u001b[1m8/8\u001b[0m \u001b[32m━━━━━━━━━━━━━━━━━━━━\u001b[0m\u001b[37m\u001b[0m \u001b[1m0s\u001b[0m 5ms/step - loss: 52.6131 - val_loss: 21.0209\n",
            "Epoch 470/500\n",
            "\u001b[1m8/8\u001b[0m \u001b[32m━━━━━━━━━━━━━━━━━━━━\u001b[0m\u001b[37m\u001b[0m \u001b[1m0s\u001b[0m 6ms/step - loss: 51.7003 - val_loss: 20.7707\n",
            "Epoch 471/500\n",
            "\u001b[1m8/8\u001b[0m \u001b[32m━━━━━━━━━━━━━━━━━━━━\u001b[0m\u001b[37m\u001b[0m \u001b[1m0s\u001b[0m 5ms/step - loss: 54.4089 - val_loss: 20.5598\n",
            "Epoch 472/500\n",
            "\u001b[1m8/8\u001b[0m \u001b[32m━━━━━━━━━━━━━━━━━━━━\u001b[0m\u001b[37m\u001b[0m \u001b[1m0s\u001b[0m 5ms/step - loss: 55.9481 - val_loss: 20.4077\n",
            "Epoch 473/500\n",
            "\u001b[1m8/8\u001b[0m \u001b[32m━━━━━━━━━━━━━━━━━━━━\u001b[0m\u001b[37m\u001b[0m \u001b[1m0s\u001b[0m 5ms/step - loss: 61.3057 - val_loss: 20.2131\n",
            "Epoch 474/500\n",
            "\u001b[1m8/8\u001b[0m \u001b[32m━━━━━━━━━━━━━━━━━━━━\u001b[0m\u001b[37m\u001b[0m \u001b[1m0s\u001b[0m 5ms/step - loss: 56.5974 - val_loss: 20.1899\n",
            "Epoch 475/500\n",
            "\u001b[1m8/8\u001b[0m \u001b[32m━━━━━━━━━━━━━━━━━━━━\u001b[0m\u001b[37m\u001b[0m \u001b[1m0s\u001b[0m 5ms/step - loss: 47.6634 - val_loss: 20.1477\n",
            "Epoch 476/500\n",
            "\u001b[1m8/8\u001b[0m \u001b[32m━━━━━━━━━━━━━━━━━━━━\u001b[0m\u001b[37m\u001b[0m \u001b[1m0s\u001b[0m 5ms/step - loss: 52.5259 - val_loss: 20.3456\n",
            "Epoch 477/500\n",
            "\u001b[1m8/8\u001b[0m \u001b[32m━━━━━━━━━━━━━━━━━━━━\u001b[0m\u001b[37m\u001b[0m \u001b[1m0s\u001b[0m 4ms/step - loss: 70.7268 - val_loss: 20.4156\n",
            "Epoch 478/500\n",
            "\u001b[1m8/8\u001b[0m \u001b[32m━━━━━━━━━━━━━━━━━━━━\u001b[0m\u001b[37m\u001b[0m \u001b[1m0s\u001b[0m 4ms/step - loss: 63.0243 - val_loss: 20.5618\n",
            "Epoch 479/500\n",
            "\u001b[1m8/8\u001b[0m \u001b[32m━━━━━━━━━━━━━━━━━━━━\u001b[0m\u001b[37m\u001b[0m \u001b[1m0s\u001b[0m 5ms/step - loss: 54.1150 - val_loss: 20.8617\n",
            "Epoch 480/500\n",
            "\u001b[1m8/8\u001b[0m \u001b[32m━━━━━━━━━━━━━━━━━━━━\u001b[0m\u001b[37m\u001b[0m \u001b[1m0s\u001b[0m 5ms/step - loss: 51.9998 - val_loss: 20.7607\n",
            "Epoch 481/500\n",
            "\u001b[1m8/8\u001b[0m \u001b[32m━━━━━━━━━━━━━━━━━━━━\u001b[0m\u001b[37m\u001b[0m \u001b[1m0s\u001b[0m 4ms/step - loss: 68.0704 - val_loss: 20.8432\n",
            "Epoch 482/500\n",
            "\u001b[1m8/8\u001b[0m \u001b[32m━━━━━━━━━━━━━━━━━━━━\u001b[0m\u001b[37m\u001b[0m \u001b[1m0s\u001b[0m 5ms/step - loss: 69.2747 - val_loss: 20.6119\n",
            "Epoch 483/500\n",
            "\u001b[1m8/8\u001b[0m \u001b[32m━━━━━━━━━━━━━━━━━━━━\u001b[0m\u001b[37m\u001b[0m \u001b[1m0s\u001b[0m 5ms/step - loss: 53.0178 - val_loss: 20.6040\n",
            "Epoch 484/500\n",
            "\u001b[1m8/8\u001b[0m \u001b[32m━━━━━━━━━━━━━━━━━━━━\u001b[0m\u001b[37m\u001b[0m \u001b[1m0s\u001b[0m 5ms/step - loss: 48.7474 - val_loss: 20.6373\n",
            "Epoch 485/500\n",
            "\u001b[1m8/8\u001b[0m \u001b[32m━━━━━━━━━━━━━━━━━━━━\u001b[0m\u001b[37m\u001b[0m \u001b[1m0s\u001b[0m 5ms/step - loss: 58.5638 - val_loss: 20.6068\n",
            "Epoch 486/500\n",
            "\u001b[1m8/8\u001b[0m \u001b[32m━━━━━━━━━━━━━━━━━━━━\u001b[0m\u001b[37m\u001b[0m \u001b[1m0s\u001b[0m 6ms/step - loss: 55.9483 - val_loss: 20.3568\n",
            "Epoch 487/500\n",
            "\u001b[1m8/8\u001b[0m \u001b[32m━━━━━━━━━━━━━━━━━━━━\u001b[0m\u001b[37m\u001b[0m \u001b[1m0s\u001b[0m 5ms/step - loss: 53.6314 - val_loss: 20.2870\n",
            "Epoch 488/500\n",
            "\u001b[1m8/8\u001b[0m \u001b[32m━━━━━━━━━━━━━━━━━━━━\u001b[0m\u001b[37m\u001b[0m \u001b[1m0s\u001b[0m 4ms/step - loss: 52.2987 - val_loss: 20.1762\n",
            "Epoch 489/500\n",
            "\u001b[1m8/8\u001b[0m \u001b[32m━━━━━━━━━━━━━━━━━━━━\u001b[0m\u001b[37m\u001b[0m \u001b[1m0s\u001b[0m 5ms/step - loss: 64.1948 - val_loss: 20.0466\n",
            "Epoch 490/500\n",
            "\u001b[1m8/8\u001b[0m \u001b[32m━━━━━━━━━━━━━━━━━━━━\u001b[0m\u001b[37m\u001b[0m \u001b[1m0s\u001b[0m 5ms/step - loss: 60.6517 - val_loss: 20.2471\n",
            "Epoch 491/500\n",
            "\u001b[1m8/8\u001b[0m \u001b[32m━━━━━━━━━━━━━━━━━━━━\u001b[0m\u001b[37m\u001b[0m \u001b[1m0s\u001b[0m 5ms/step - loss: 64.0799 - val_loss: 20.2699\n",
            "Epoch 492/500\n",
            "\u001b[1m8/8\u001b[0m \u001b[32m━━━━━━━━━━━━━━━━━━━━\u001b[0m\u001b[37m\u001b[0m \u001b[1m0s\u001b[0m 5ms/step - loss: 53.0974 - val_loss: 20.2725\n",
            "Epoch 493/500\n",
            "\u001b[1m8/8\u001b[0m \u001b[32m━━━━━━━━━━━━━━━━━━━━\u001b[0m\u001b[37m\u001b[0m \u001b[1m0s\u001b[0m 4ms/step - loss: 61.5862 - val_loss: 20.4262\n",
            "Epoch 494/500\n",
            "\u001b[1m8/8\u001b[0m \u001b[32m━━━━━━━━━━━━━━━━━━━━\u001b[0m\u001b[37m\u001b[0m \u001b[1m0s\u001b[0m 5ms/step - loss: 46.4802 - val_loss: 20.6750\n",
            "Epoch 495/500\n",
            "\u001b[1m8/8\u001b[0m \u001b[32m━━━━━━━━━━━━━━━━━━━━\u001b[0m\u001b[37m\u001b[0m \u001b[1m0s\u001b[0m 5ms/step - loss: 46.9989 - val_loss: 20.5293\n",
            "Epoch 496/500\n",
            "\u001b[1m8/8\u001b[0m \u001b[32m━━━━━━━━━━━━━━━━━━━━\u001b[0m\u001b[37m\u001b[0m \u001b[1m0s\u001b[0m 5ms/step - loss: 49.8845 - val_loss: 20.2169\n",
            "Epoch 497/500\n",
            "\u001b[1m8/8\u001b[0m \u001b[32m━━━━━━━━━━━━━━━━━━━━\u001b[0m\u001b[37m\u001b[0m \u001b[1m0s\u001b[0m 5ms/step - loss: 53.6758 - val_loss: 19.9885\n",
            "Epoch 498/500\n",
            "\u001b[1m8/8\u001b[0m \u001b[32m━━━━━━━━━━━━━━━━━━━━\u001b[0m\u001b[37m\u001b[0m \u001b[1m0s\u001b[0m 5ms/step - loss: 51.6834 - val_loss: 19.8434\n",
            "Epoch 499/500\n",
            "\u001b[1m8/8\u001b[0m \u001b[32m━━━━━━━━━━━━━━━━━━━━\u001b[0m\u001b[37m\u001b[0m \u001b[1m0s\u001b[0m 9ms/step - loss: 54.3527 - val_loss: 20.0783\n",
            "Epoch 500/500\n",
            "\u001b[1m8/8\u001b[0m \u001b[32m━━━━━━━━━━━━━━━━━━━━\u001b[0m\u001b[37m\u001b[0m \u001b[1m0s\u001b[0m 9ms/step - loss: 47.9255 - val_loss: 20.0542\n"
          ]
        },
        {
          "output_type": "execute_result",
          "data": {
            "text/plain": [
              "<keras.src.callbacks.history.History at 0x7d1f12569660>"
            ]
          },
          "metadata": {},
          "execution_count": 53
        }
      ]
    },
    {
      "cell_type": "markdown",
      "source": [
        "Volvemos a evaluar el modelo. Podemos observar incluso un gran cambio en la pérdida, ya que en el modelo anterior tuvimos un loss de 695 redondeado, mientras que este nuevo modelo ahora sólo tiene una loss de 47 redondeado, lo cual es bueno. Para escoger el mejor modelo, debemos de observar si el loss es pequeño, ya que significa que tiene menos errores al momento de predecir."
      ],
      "metadata": {
        "id": "BhL9T5acNrrg"
      }
    },
    {
      "cell_type": "code",
      "source": [
        "#Evaluamos el nuevo modelo mejorado\n",
        "loss = model.evaluate(x_test, y_test)\n",
        "print(f\"\\nTest Loss: {loss}\")"
      ],
      "metadata": {
        "colab": {
          "base_uri": "https://localhost:8080/"
        },
        "id": "R8pdqwTmgORA",
        "outputId": "9299d4c2-eb8b-4929-bd9c-c65e7f4c77f8"
      },
      "execution_count": 54,
      "outputs": [
        {
          "output_type": "stream",
          "name": "stdout",
          "text": [
            "\u001b[1m1/1\u001b[0m \u001b[32m━━━━━━━━━━━━━━━━━━━━\u001b[0m\u001b[37m\u001b[0m \u001b[1m0s\u001b[0m 27ms/step - loss: 47.2484\n",
            "\n",
            "Test Loss: 47.24835968017578\n"
          ]
        }
      ]
    },
    {
      "cell_type": "markdown",
      "source": [
        "Volvemos a imprimir los nuevos pesos calculados. Podemos observar también que para w1 su valor ya llega a 1 (como lo habíamos establecido en la función de *generate_data()*), mientras que en el modelo pasado daba un valor de 0.7. En cambio, para w0 hubo un mayor aumento de 0.08 a casi 2. Esto explica por qué el modelo estaba muy por debajo de los datos de entrenamiento. Sin embargo, es interesante notar que, en teoría, debería de ser un valor cercano a 10 como lo habíamos establecido en la función de *generate_data()*. Como quiera, aunque no sea cercano a 10, el modelo presenta una pérdida pequeña, pero siempre hay espacio para mejorar."
      ],
      "metadata": {
        "id": "GivUUYmqOXuJ"
      }
    },
    {
      "cell_type": "code",
      "source": [
        "#Imprimimos los pesos del nuevo modelo entrenado\n",
        "weights = model.layers[0].get_weights()\n",
        "print(f\"Weights [w1]: {weights[0]}\")\n",
        "print(f\"Biases [w0]: {weights[1]}\")"
      ],
      "metadata": {
        "colab": {
          "base_uri": "https://localhost:8080/"
        },
        "id": "OuFJ5IZBgjjL",
        "outputId": "3b4db4de-b622-4cbe-866d-839f2ddfc8ee"
      },
      "execution_count": 55,
      "outputs": [
        {
          "output_type": "stream",
          "name": "stdout",
          "text": [
            "Weights [w1]: [[1.1183378]]\n",
            "Biases [w0]: [1.9692197]\n"
          ]
        }
      ]
    },
    {
      "cell_type": "markdown",
      "source": [
        "Volvemos a realizar predicciones con los datos de prueba y también para los de entrenamiento para poder graficar el modelo nuevo."
      ],
      "metadata": {
        "id": "xgnFlf7GRMoQ"
      }
    },
    {
      "cell_type": "code",
      "source": [
        "#Hacemos nuevas predicciones\n",
        "y_pred = model.predict(x_test)\n",
        "y_pred_train = model.predict(x_train)"
      ],
      "metadata": {
        "colab": {
          "base_uri": "https://localhost:8080/"
        },
        "id": "WiYy10zkg6S3",
        "outputId": "3e60532a-eac1-4585-c08c-710c2ed14116"
      },
      "execution_count": 56,
      "outputs": [
        {
          "output_type": "stream",
          "name": "stdout",
          "text": [
            "\u001b[1m1/1\u001b[0m \u001b[32m━━━━━━━━━━━━━━━━━━━━\u001b[0m\u001b[37m\u001b[0m \u001b[1m0s\u001b[0m 28ms/step\n",
            "\u001b[1m3/3\u001b[0m \u001b[32m━━━━━━━━━━━━━━━━━━━━\u001b[0m\u001b[37m\u001b[0m \u001b[1m0s\u001b[0m 3ms/step \n"
          ]
        }
      ]
    },
    {
      "cell_type": "markdown",
      "source": [
        "Finalmente, graficamos el nuevo modelo generado. Ahora sí, podemos ver que el modelo representado por la línea roja se ajusta mejor a los datos de entrenamiento, en comparación con el modelo anterior."
      ],
      "metadata": {
        "id": "ei-IOE1KRXzT"
      }
    },
    {
      "cell_type": "code",
      "source": [
        "#Visualizamos el nuevo modelo mejorado entrenado\n",
        "plt.figure(figsize=(10,6))\n",
        "plt.scatter(x_train ,y_train , label='Training Data')\n",
        "plt.plot(x_train,y_pred_train, label='Model', linewidth=3, color=[1,0,0])\n",
        "plt.xlabel(r\"$X$\", fontsize=20)\n",
        "plt.ylabel(\"$f_{\\mathbf{w}}(x)$\", fontsize=20)\n",
        "plt.title(rf\"$f_{{\\mathbf{{w}}}}(x) = {true_coeffs[0]} + {true_coeffs[1]} x + \\epsilon$, where $\\epsilon \\sim \\mathcal{{N}}(\\mu=0, \\sigma={noise_std})$\", fontsize=20)\n",
        "plt.legend()\n",
        "plt.show()"
      ],
      "metadata": {
        "colab": {
          "base_uri": "https://localhost:8080/",
          "height": 589
        },
        "id": "gS9-r6TahMdf",
        "outputId": "ba83686d-c579-43d6-fd80-43646454ab68"
      },
      "execution_count": 57,
      "outputs": [
        {
          "output_type": "display_data",
          "data": {
            "text/plain": [
              "<Figure size 1000x600 with 1 Axes>"
            ],
            "image/png": "[encoded data removed]"
          },
          "metadata": {}
        }
      ]
    },
    {
      "cell_type": "markdown",
      "source": [
        "## **Conclusiones Personales**\n",
        "\n",
        "Esta tarea me ayudó mucho a refrescar los temas básicos de deep learning con redes neuronales artificiales aplicado ya a crear modelos usando TensorFlow. La verdad, me sirvió mucho el estar explicando el código célula por célula, pues para poder explicar algo debo primero entender muy bien lo que está pasando. De hecho, me sirvió también para aprender otras cosas que no sabía antes y que omitía cuando hacía modelos en la clase de Inteligenca Artifiial 1. Por ejemplo, no sabía que Keras es la API de TensorFlow; o que el número de épocas es diferente al batch_size. Ahora sé que las épocas en general se refiere a las veces que el modelo entrena los datos al recorrerlos, y el batch_size indica el número de datos que tendrá el batch, pues las épocas se tienen que dividir en batches para que la computadora pueda trabajar un poco más eficiente con grandes conjuntos de datos.\n",
        "\n",
        "\n",
        "Asimismo, esta tarea también me sirvió mucho a visualizar cuándo se utilizan las funciones de activación, los optimizadores y ver cómo va aprendiendo los coeficientes. La verdad, antes se me dificultaba un poco poder identificar los pesos y calcular cuántos coeficientes va a tener que aprender el modelo. Con este de ejercicio de regresión lineal, me quedó más claro este tema y entender lo que está sucediendo matemáticamente en el modelo. Sin embargo, capaz y porque es un modelo de regresión lineal simple es más sencillo de comprender y visualizar. El reto está ahora sí en crear modelos más complejos, con más capas y aplicando ya diferentes funciones de activación y experimentar con otros optimizadores.\n",
        "\n",
        "\n",
        "Por último, algo que me funcionó también para comprender bien el tema fue hacer pequeños experimentos para probar cómo funcionan las cosas. Aunque también lo vimos durante la clase, el estar moviendo el valor de los parámetros me ayudó mucho a entender realmente lo que hacen y cómo afecta el modelo. Por ejemplo, en este caso al disminuir el número de épocas ocasiona lógicamente un underfit y luego volver a repetir el experimento con más épocas y observar las mejoras que hace. Tal vez si incrementamos más ese número podemos correr un riesgo de overfit, o no, o podemos mejorar el modelo implementando un early stopping para prevenir justamente eso. Al final del día, eso es lo padre de entrenar los modelos: el ir experimentando y observando cómo va aprendiendo y pensar cómo podemos mejorar y hacerlo de una manera eficiente."
      ],
      "metadata": {
        "id": "K8PHehj5xtv6"
      }
    },
    {
      "cell_type": "markdown",
      "source": [
        "## **Referencias**\n",
        "\n",
        "+ Scikit-learn. (2024). sklearn.model_selection. Scikit-learn. Recuperado de https://scikit-learn.org/stable/api/sklearn.model_selection.html\n",
        "+ TensorFlow. (2024). Introducción a TensorFlow. TensorFlow. Recuperado de https://www.tensorflow.org/learn?hl=es\n",
        "+ TensorFlow. (2024). Keras: la API de alto nivel para TensorFlow. TensorFlow. Recuperado de https://www.tensorflow.org/guide/keras?hl=es\n",
        "+ TensorFlow. (2024). tf.keras.Sequential. TensorFlow. Recuperado de https://www.tensorflow.org/api_docs/python/tf/keras/Sequential\n",
        "+ W3S. (2024). NumPy Introduction. W3Schools. Recuperado de https://www.w3schools.com/python/numpy/numpy_intro.asp#:~:text=NumPy%20is%20a%20Python%20library,%2C%20fourier%20transform%2C%20and%20matrices.\n"
      ],
      "metadata": {
        "id": "z45QNjapxyfk"
      }
    },
    {
      "cell_type": "markdown",
      "source": [
        "**Firma de Honor:** \"Yo, Leslie López, doy mi palabra de que he realizado esta tarea con integridad académica\""
      ],
      "metadata": {
        "id": "gF38i7rYxksI"
      }
    }
  ]
}